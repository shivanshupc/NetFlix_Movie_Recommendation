{
 "cells": [
  {
   "cell_type": "markdown",
   "metadata": {},
   "source": [
    "<h2> Problem Description </h2>"
   ]
  },
  {
   "cell_type": "markdown",
   "metadata": {},
   "source": [
    "<p>\n",
    "Netflix is all about connecting people to the movies they love. To help customers find those movies, they developed world-class movie recommendation system: CinematchSM. Its job is to predict whether someone will enjoy a movie based on how much they liked or disliked other movies. Netflix use those predictions to make personal movie recommendations based on each customer’s unique tastes. And while <b>Cinematch</b> is doing pretty well, it can always be made better.\n",
    "</p>\n",
    "<p>Now there are a lot of interesting alternative approaches to how Cinematch works that netflix haven’t tried. Some are described in the literature, some aren’t. We’re curious whether any of these can beat Cinematch by making better predictions. Because, frankly, if there is a much better approach it could make a big difference to our customers and our business.</p>\n",
    "<p> Credits: https://www.netflixprize.com/rules.html </p>"
   ]
  },
  {
   "cell_type": "markdown",
   "metadata": {},
   "source": [
    "<h2> Problem Statement </h2>"
   ]
  },
  {
   "cell_type": "markdown",
   "metadata": {},
   "source": [
    "<p>\n",
    "Netflix provided a lot of anonymous rating data, and a prediction accuracy bar that is 10% better than what Cinematch can do on the same training data set. (Accuracy is a measurement of how closely predicted ratings of movies match subsequent actual ratings.) \n",
    "</p>"
   ]
  },
  {
   "cell_type": "markdown",
   "metadata": {},
   "source": [
    "<h2>Real world/Business Objectives and constraints  </h2>"
   ]
  },
  {
   "cell_type": "markdown",
   "metadata": {},
   "source": [
    "Objectives:\n",
    "1. Predict the rating that a user would give to a movie that he ahs not yet rated.\n",
    "2. Minimize the difference between predicted and actual rating (RMSE and MAPE)\n",
    "<br>\n",
    "\n",
    "Constraints:\n",
    "1. Some form of interpretability."
   ]
  },
  {
   "cell_type": "markdown",
   "metadata": {},
   "source": [
    "<h2>Data </h2>"
   ]
  },
  {
   "cell_type": "markdown",
   "metadata": {},
   "source": [
    "<p> Get the data from : https://www.kaggle.com/netflix-inc/netflix-prize-data/data </p>\n",
    "<p> Data files : \n",
    "<ul> \n",
    "<li> combined_data_1.txt </li>\n",
    "<li> combined_data_2.txt </li>\n",
    "<li> combined_data_3.txt </li>\n",
    "<li> combined_data_4.txt </li>\n",
    "<li> movie_titles.csv </li>\n",
    "</ul>\n",
    "<pre>  \n",
    "The first line of each file [combined_data_1.txt, combined_data_2.txt, combined_data_3.txt, combined_data_4.txt] contains the movie id followed by a colon. Each subsequent line in the file corresponds to a rating from a customer and its date in the following format:\n",
    "\n",
    "CustomerID,Rating,Date\n",
    "\n",
    "MovieIDs range from 1 to 17770 sequentially.\n",
    "CustomerIDs range from 1 to 2649429, with gaps. There are 480189 users.\n",
    "Ratings are on a five star (integral) scale from 1 to 5.\n",
    "Dates have the format YYYY-MM-DD.\n",
    "</pre>"
   ]
  },
  {
   "cell_type": "markdown",
   "metadata": {},
   "source": [
    "<h3> Type of Machine Learning Problem </h3>"
   ]
  },
  {
   "cell_type": "markdown",
   "metadata": {},
   "source": [
    "<pre>\n",
    "For a given movie and user we need to predict the rating would be given by him/her to the movie. \n",
    "The given problem is a Recommendation problem \n",
    "It can also seen as a Regression problem \n",
    "</pre>"
   ]
  },
  {
   "cell_type": "markdown",
   "metadata": {},
   "source": [
    "<h3> Performance metric </h3>"
   ]
  },
  {
   "cell_type": "markdown",
   "metadata": {},
   "source": [
    "<ul>\n",
    "<li> Mean Absolute Percentage Error: https://en.wikipedia.org/wiki/Mean_absolute_percentage_error </li>\n",
    "<li> Root Mean Square Error: https://en.wikipedia.org/wiki/Root-mean-square_deviation </li>\n",
    "</ul>\n"
   ]
  },
  {
   "cell_type": "markdown",
   "metadata": {},
   "source": [
    "<h3> Objective and Constraints </h3>"
   ]
  },
  {
   "cell_type": "markdown",
   "metadata": {},
   "source": [
    "1. Minimize RMSE.\n",
    "2. Try to provide some interpretability."
   ]
  },
  {
   "cell_type": "code",
   "execution_count": 2,
   "metadata": {},
   "outputs": [],
   "source": [
    "from datetime import datetime\n",
    "import pandas as pd\n",
    "import numpy as np\n",
    "import matplotlib\n",
    "matplotlib.use('nbagg')\n",
    "import matplotlib.pyplot as plt\n",
    "plt.rcParams.update({'figure.max_open_warning': 0})\n",
    "import seaborn as sns\n",
    "sns.set_style('whitegrid')\n",
    "import os\n",
    "from scipy import sparse\n",
    "from scipy.sparse import csr_matrix\n",
    "from sklearn.decomposition import TruncatedSVD\n",
    "from sklearn.metrics.pairwise import cosine_similarity\n",
    "import random\n",
    "from sklearn.metrics.pairwise import cosine_similarity\n",
    "%matplotlib inline  \n",
    "import warnings\n",
    "warnings.filterwarnings('ignore')"
   ]
  },
  {
   "cell_type": "markdown",
   "metadata": {},
   "source": [
    "# Exploratory Data Analysis (EDA)"
   ]
  },
  {
   "cell_type": "markdown",
   "metadata": {},
   "source": [
    "### Preprocessing of data"
   ]
  },
  {
   "cell_type": "code",
   "execution_count": 2,
   "metadata": {},
   "outputs": [
    {
     "name": "stdout",
     "output_type": "stream",
     "text": [
      "Time taken : 0:00:00\n"
     ]
    }
   ],
   "source": [
    "start = datetime.now()\n",
    "if not os.path.isfile('data.csv'):\n",
    "    # Create a file 'data.csv' before reading it\n",
    "    # Read all the files in netflix and store them in one big file('data.csv')\n",
    "    # We re reading from each of the four files and appendig each rating to a global file 'train.csv'\n",
    "    data = open('data.csv', mode='w')\n",
    "    \n",
    "    row = list()\n",
    "    files=['data_folder/combined_data_1.txt','data_folder/combined_data_2.txt', \n",
    "           'data_folder/combined_data_3.txt', 'data_folder/combined_data_4.txt']\n",
    "    for file in files:\n",
    "        print(\"Reading ratings from {}...\".format(file))\n",
    "        with open(file) as f:\n",
    "            for line in f: \n",
    "                del row[:] # you don't have to do this.\n",
    "                line = line.strip()\n",
    "                if line.endswith(':'):\n",
    "                    # All below are ratings for this movie, until another movie appears.\n",
    "                    movie_id = line.replace(':', '')\n",
    "                else:\n",
    "                    row = [x for x in line.split(',')]\n",
    "                    row.insert(0, movie_id)\n",
    "                    data.write(','.join(row))\n",
    "                    data.write('\\n')\n",
    "        print(\"Done.\\n\")\n",
    "    data.close()\n",
    "print('Time taken :', datetime.now() - start)"
   ]
  },
  {
   "cell_type": "code",
   "execution_count": 3,
   "metadata": {},
   "outputs": [],
   "source": [
    "df = pd.read_csv('data.csv', sep=',',names=['movie', 'user','rating','date'])\n",
    "df.date = pd.to_datetime(df.date)\n",
    "df.sort_values(by='date', inplace=True)"
   ]
  },
  {
   "cell_type": "code",
   "execution_count": 4,
   "metadata": {},
   "outputs": [
    {
     "data": {
      "text/html": [
       "<div>\n",
       "<style scoped>\n",
       "    .dataframe tbody tr th:only-of-type {\n",
       "        vertical-align: middle;\n",
       "    }\n",
       "\n",
       "    .dataframe tbody tr th {\n",
       "        vertical-align: top;\n",
       "    }\n",
       "\n",
       "    .dataframe thead th {\n",
       "        text-align: right;\n",
       "    }\n",
       "</style>\n",
       "<table border=\"1\" class=\"dataframe\">\n",
       "  <thead>\n",
       "    <tr style=\"text-align: right;\">\n",
       "      <th></th>\n",
       "      <th>movie</th>\n",
       "      <th>user</th>\n",
       "      <th>rating</th>\n",
       "      <th>date</th>\n",
       "    </tr>\n",
       "  </thead>\n",
       "  <tbody>\n",
       "    <tr>\n",
       "      <th>56431994</th>\n",
       "      <td>10341</td>\n",
       "      <td>510180</td>\n",
       "      <td>4</td>\n",
       "      <td>1999-11-11</td>\n",
       "    </tr>\n",
       "    <tr>\n",
       "      <th>9056171</th>\n",
       "      <td>1798</td>\n",
       "      <td>510180</td>\n",
       "      <td>5</td>\n",
       "      <td>1999-11-11</td>\n",
       "    </tr>\n",
       "    <tr>\n",
       "      <th>58698779</th>\n",
       "      <td>10774</td>\n",
       "      <td>510180</td>\n",
       "      <td>3</td>\n",
       "      <td>1999-11-11</td>\n",
       "    </tr>\n",
       "    <tr>\n",
       "      <th>48101611</th>\n",
       "      <td>8651</td>\n",
       "      <td>510180</td>\n",
       "      <td>2</td>\n",
       "      <td>1999-11-11</td>\n",
       "    </tr>\n",
       "    <tr>\n",
       "      <th>81893208</th>\n",
       "      <td>14660</td>\n",
       "      <td>510180</td>\n",
       "      <td>2</td>\n",
       "      <td>1999-11-11</td>\n",
       "    </tr>\n",
       "  </tbody>\n",
       "</table>\n",
       "</div>"
      ],
      "text/plain": [
       "          movie    user  rating       date\n",
       "56431994  10341  510180       4 1999-11-11\n",
       "9056171    1798  510180       5 1999-11-11\n",
       "58698779  10774  510180       3 1999-11-11\n",
       "48101611   8651  510180       2 1999-11-11\n",
       "81893208  14660  510180       2 1999-11-11"
      ]
     },
     "execution_count": 4,
     "metadata": {},
     "output_type": "execute_result"
    }
   ],
   "source": [
    "df.head()"
   ]
  },
  {
   "cell_type": "code",
   "execution_count": 5,
   "metadata": {},
   "outputs": [
    {
     "data": {
      "text/plain": [
       "count    1.004805e+08\n",
       "mean     3.604290e+00\n",
       "std      1.085219e+00\n",
       "min      1.000000e+00\n",
       "25%      3.000000e+00\n",
       "50%      4.000000e+00\n",
       "75%      4.000000e+00\n",
       "max      5.000000e+00\n",
       "Name: rating, dtype: float64"
      ]
     },
     "execution_count": 5,
     "metadata": {},
     "output_type": "execute_result"
    }
   ],
   "source": [
    "df.describe()['rating']"
   ]
  },
  {
   "cell_type": "markdown",
   "metadata": {},
   "source": [
    "<h3>Checking for NaN values / Removing Duplicates</h3>"
   ]
  },
  {
   "cell_type": "code",
   "execution_count": 6,
   "metadata": {},
   "outputs": [
    {
     "name": "stdout",
     "output_type": "stream",
     "text": [
      "No of Nan values in our dataframe :  0\n",
      "There are 0 duplicate rating entries in the data..\n"
     ]
    }
   ],
   "source": [
    "print(\"No of Nan values in our dataframe : \", sum(df.isnull().any()))\n",
    "dup_bool = df.duplicated(['movie','user','rating'])\n",
    "dups = sum(dup_bool) # by considering all columns..( including timestamp)\n",
    "print(\"There are {} duplicate rating entries in the data..\".format(dups))"
   ]
  },
  {
   "cell_type": "code",
   "execution_count": 7,
   "metadata": {},
   "outputs": [
    {
     "name": "stdout",
     "output_type": "stream",
     "text": [
      "\n",
      "Total no of ratings : 100480507\n",
      "Total No of Users   : 480189\n",
      "Total No of movies  : 17770\n"
     ]
    }
   ],
   "source": [
    "print(\"\\nTotal no of ratings :\",df.shape[0])\n",
    "print(\"Total No of Users   :\", len(np.unique(df.user)))\n",
    "print(\"Total No of movies  :\", len(np.unique(df.movie)))"
   ]
  },
  {
   "cell_type": "markdown",
   "metadata": {},
   "source": [
    "<h2>Spliting data into Train and Test(80:20) </h2>"
   ]
  },
  {
   "cell_type": "code",
   "execution_count": 8,
   "metadata": {},
   "outputs": [],
   "source": [
    "if not os.path.isfile('train.csv'):\n",
    "    # create the dataframe and store it in the disk for offline purposes..\n",
    "    df.iloc[:int(df.shape[0]*0.80)].to_csv(\"train.csv\", index=False)\n",
    "\n",
    "if not os.path.isfile('test.csv'):\n",
    "    # create the dataframe and store it in the disk for offline purposes..\n",
    "    df.iloc[int(df.shape[0]*0.80):].to_csv(\"test.csv\", index=False)\n",
    "\n",
    "train_df = pd.read_csv(\"train.csv\", parse_dates=['date'])\n",
    "test_df = pd.read_csv(\"test.csv\")"
   ]
  },
  {
   "cell_type": "markdown",
   "metadata": {},
   "source": [
    "<h3>Basic Statistics in Train data (#Ratings, #Users, and #Movies)</h3>"
   ]
  },
  {
   "cell_type": "code",
   "execution_count": 9,
   "metadata": {},
   "outputs": [
    {
     "name": "stdout",
     "output_type": "stream",
     "text": [
      "Training data \n",
      "--------------------------------------------------\n",
      "\n",
      "Total no of ratings : 80384405\n",
      "Total No of Users   : 405041\n",
      "Total No of movies  : 17424\n"
     ]
    }
   ],
   "source": [
    "print(\"Training data \")\n",
    "print(\"-\"*50)\n",
    "print(\"\\nTotal no of ratings :\",train_df.shape[0])\n",
    "print(\"Total No of Users   :\", len(np.unique(train_df.user)))\n",
    "print(\"Total No of movies  :\", len(np.unique(train_df.movie)))"
   ]
  },
  {
   "cell_type": "markdown",
   "metadata": {},
   "source": [
    "<h3>Basic Statistics in Test data (#Ratings, #Users, and #Movies)</h3>"
   ]
  },
  {
   "cell_type": "code",
   "execution_count": 10,
   "metadata": {},
   "outputs": [
    {
     "name": "stdout",
     "output_type": "stream",
     "text": [
      "Test data \n",
      "--------------------------------------------------\n",
      "\n",
      "Total no of ratings : 20096102\n",
      "Total No of Users   : 349312\n",
      "Total No of movies  : 17757\n"
     ]
    }
   ],
   "source": [
    "print(\"Test data \")\n",
    "print(\"-\"*50)\n",
    "print(\"\\nTotal no of ratings :\",test_df.shape[0])\n",
    "print(\"Total No of Users   :\", len(np.unique(test_df.user)))\n",
    "print(\"Total No of movies  :\", len(np.unique(test_df.movie)))"
   ]
  },
  {
   "cell_type": "markdown",
   "metadata": {},
   "source": [
    " <h2>Exploratory Data Analysis on Train data </h2>"
   ]
  },
  {
   "cell_type": "code",
   "execution_count": 11,
   "metadata": {},
   "outputs": [],
   "source": [
    "# method to make y-axis more readable\n",
    "def human(num, units = 'M'):\n",
    "    units = units.lower()\n",
    "    num = float(num)\n",
    "    if units == 'k':\n",
    "        return str(num/10**3) + \" K\"\n",
    "    elif units == 'm':\n",
    "        return str(num/10**6) + \" M\"\n",
    "    elif units == 'b':\n",
    "        return str(num/10**9) +  \" B\""
   ]
  },
  {
   "cell_type": "markdown",
   "metadata": {},
   "source": [
    "<h3>Distribution of ratings </h3>"
   ]
  },
  {
   "cell_type": "code",
   "execution_count": 12,
   "metadata": {},
   "outputs": [
    {
     "data": {
      "image/png": "[encoded data removed]",
      "text/plain": [
       "<Figure size 432x288 with 1 Axes>"
      ]
     },
     "metadata": {
      "needs_background": "light"
     },
     "output_type": "display_data"
    }
   ],
   "source": [
    "fig, ax = plt.subplots()\n",
    "plt.title('Distribution of ratings over Training dataset', fontsize=15)\n",
    "sns.countplot(train_df.rating)\n",
    "ax.set_yticklabels([human(item, 'M') for item in ax.get_yticks()])\n",
    "ax.set_ylabel('No. of Ratings(Millions)')\n",
    "\n",
    "plt.show()"
   ]
  },
  {
   "cell_type": "markdown",
   "metadata": {},
   "source": [
    "<h3>Analysis on the Ratings given by user </h3>"
   ]
  },
  {
   "cell_type": "code",
   "execution_count": 13,
   "metadata": {},
   "outputs": [
    {
     "data": {
      "text/plain": [
       "user\n",
       "305344     17112\n",
       "2439493    15896\n",
       "387418     15402\n",
       "1639792     9767\n",
       "1461435     9447\n",
       "Name: rating, dtype: int64"
      ]
     },
     "execution_count": 13,
     "metadata": {},
     "output_type": "execute_result"
    }
   ],
   "source": [
    "no_of_rated_movies_per_user = train_df.groupby(by='user')['rating'].count().sort_values(ascending=False)\n",
    "\n",
    "no_of_rated_movies_per_user.head()"
   ]
  },
  {
   "cell_type": "code",
   "execution_count": 14,
   "metadata": {},
   "outputs": [
    {
     "data": {
      "image/png": "[encoded data removed]",
      "text/plain": [
       "<Figure size 576x288 with 2 Axes>"
      ]
     },
     "metadata": {
      "needs_background": "light"
     },
     "output_type": "display_data"
    }
   ],
   "source": [
    "fig = plt.figure(figsize=plt.figaspect(.5))\n",
    "\n",
    "ax1 = plt.subplot(121)\n",
    "sns.kdeplot(no_of_rated_movies_per_user, shade=True, ax=ax1)\n",
    "plt.xlabel('No of ratings by user')\n",
    "plt.title(\"PDF\")\n",
    "\n",
    "ax2 = plt.subplot(122)\n",
    "sns.kdeplot(no_of_rated_movies_per_user, shade=True, cumulative=True,ax=ax2)\n",
    "plt.xlabel('No of ratings by user')\n",
    "plt.title('CDF')\n",
    "\n",
    "plt.show()"
   ]
  },
  {
   "cell_type": "code",
   "execution_count": 15,
   "metadata": {},
   "outputs": [
    {
     "data": {
      "text/plain": [
       "count    405041.000000\n",
       "mean        198.459921\n",
       "std         290.793238\n",
       "min           1.000000\n",
       "25%          34.000000\n",
       "50%          89.000000\n",
       "75%         245.000000\n",
       "max       17112.000000\n",
       "Name: rating, dtype: float64"
      ]
     },
     "execution_count": 15,
     "metadata": {},
     "output_type": "execute_result"
    }
   ],
   "source": [
    "no_of_rated_movies_per_user.describe()"
   ]
  },
  {
   "cell_type": "markdown",
   "metadata": {},
   "source": [
    "- Taking further look in the quantiles"
   ]
  },
  {
   "cell_type": "code",
   "execution_count": 16,
   "metadata": {},
   "outputs": [],
   "source": [
    "quantiles = no_of_rated_movies_per_user.quantile(np.arange(0,1.01,0.01), interpolation='higher')"
   ]
  },
  {
   "cell_type": "code",
   "execution_count": 17,
   "metadata": {},
   "outputs": [
    {
     "data": {
      "text/plain": [
       "0.00        1\n",
       "0.05        7\n",
       "0.10       15\n",
       "0.15       21\n",
       "0.20       27\n",
       "0.25       34\n",
       "0.30       41\n",
       "0.35       50\n",
       "0.40       60\n",
       "0.45       73\n",
       "0.50       89\n",
       "0.55      109\n",
       "0.60      133\n",
       "0.65      163\n",
       "0.70      199\n",
       "0.75      245\n",
       "0.80      307\n",
       "0.85      392\n",
       "0.90      520\n",
       "0.95      749\n",
       "1.00    17112\n",
       "Name: rating, dtype: int64"
      ]
     },
     "execution_count": 17,
     "metadata": {},
     "output_type": "execute_result"
    }
   ],
   "source": [
    "quantiles[::5]"
   ]
  },
  {
   "cell_type": "markdown",
   "metadata": {},
   "source": [
    "<h3>Analysis of ratings of a movie given by a user </h3>"
   ]
  },
  {
   "cell_type": "code",
   "execution_count": 18,
   "metadata": {},
   "outputs": [
    {
     "data": {
      "image/png": "[encoded data removed]",
      "text/plain": [
       "<Figure size 576x288 with 1 Axes>"
      ]
     },
     "metadata": {
      "needs_background": "light"
     },
     "output_type": "display_data"
    }
   ],
   "source": [
    "no_of_ratings_per_movie = train_df.groupby(by='movie')['rating'].count().sort_values(ascending=False)\n",
    "\n",
    "fig = plt.figure(figsize=plt.figaspect(.5))\n",
    "ax = plt.gca()\n",
    "plt.plot(no_of_ratings_per_movie.values)\n",
    "plt.title('# RATINGS per Movie')\n",
    "plt.xlabel('Movie')\n",
    "plt.ylabel('No of Users who rated a movie')\n",
    "ax.set_xticklabels([])\n",
    "\n",
    "plt.show()"
   ]
  },
  {
   "cell_type": "markdown",
   "metadata": {},
   "source": [
    "- __It is very skewed.. just like nunmber of ratings given per user.__\n",
    "    \n",
    "    \n",
    "    - There are some movies (which are very popular) which are rated by huge number of users.\n",
    "    \n",
    "    - But most of the movies(like 90%) got some hundereds of ratings."
   ]
  },
  {
   "cell_type": "markdown",
   "metadata": {},
   "source": [
    "<h4> Creating sparse matrix from train data frame </h4>"
   ]
  },
  {
   "cell_type": "code",
   "execution_count": 19,
   "metadata": {},
   "outputs": [
    {
     "name": "stdout",
     "output_type": "stream",
     "text": [
      "It is present in your pwd, getting it from disk....\n",
      "DONE..\n",
      "0:00:03.002252\n"
     ]
    }
   ],
   "source": [
    "start = datetime.now()\n",
    "if os.path.isfile('train_sparse_matrix.npz'):\n",
    "    print(\"It is present in your pwd, getting it from disk....\")\n",
    "    # just get it from the disk instead of computing it\n",
    "    train_sparse_matrix = sparse.load_npz('train_sparse_matrix.npz')\n",
    "    print(\"DONE..\")\n",
    "else: \n",
    "    print(\"We are creating sparse_matrix from the dataframe..\")\n",
    "    # create sparse_matrix and store it for after usage.\n",
    "    # csr_matrix(data_values, (row_index, col_index), shape_of_matrix)\n",
    "    # It should be in such a way that, MATRIX[row, col] = data\n",
    "    train_sparse_matrix = sparse.csr_matrix((train_df.rating.values, (train_df.user.values,\n",
    "                                               train_df.movie.values)),)\n",
    "    \n",
    "    print('Done. It\\'s shape is : (user, movie) : ',train_sparse_matrix.shape)\n",
    "    print('Saving it into disk for furthur usage..')\n",
    "    # save it into disk\n",
    "    sparse.save_npz(\"train_sparse_matrix.npz\", train_sparse_matrix)\n",
    "    print('Done..\\n')\n",
    "\n",
    "print(datetime.now() - start)"
   ]
  },
  {
   "cell_type": "markdown",
   "metadata": {},
   "source": [
    "<p><b>The Sparsity of Train Sparse Matrix</b></p>"
   ]
  },
  {
   "cell_type": "code",
   "execution_count": 20,
   "metadata": {},
   "outputs": [
    {
     "name": "stdout",
     "output_type": "stream",
     "text": [
      "Sparsity Of Train matrix : 99.8292709259195 % \n"
     ]
    }
   ],
   "source": [
    "us,mv = train_sparse_matrix.shape\n",
    "elem = train_sparse_matrix.count_nonzero()\n",
    "\n",
    "print(\"Sparsity Of Train matrix : {} % \".format(  (1-(elem/(us*mv))) * 100) )"
   ]
  },
  {
   "cell_type": "markdown",
   "metadata": {},
   "source": [
    "<h4> Creating sparse matrix from test data frame </h4>"
   ]
  },
  {
   "cell_type": "code",
   "execution_count": 21,
   "metadata": {},
   "outputs": [
    {
     "name": "stdout",
     "output_type": "stream",
     "text": [
      "It is present in your pwd, getting it from disk....\n",
      "DONE..\n",
      "0:00:00.796723\n"
     ]
    }
   ],
   "source": [
    "start = datetime.now()\n",
    "if os.path.isfile('test_sparse_matrix.npz'):\n",
    "    print(\"It is present in your pwd, getting it from disk....\")\n",
    "    # just get it from the disk instead of computing it\n",
    "    test_sparse_matrix = sparse.load_npz('test_sparse_matrix.npz')\n",
    "    print(\"DONE..\")\n",
    "else: \n",
    "    print(\"We are creating sparse_matrix from the dataframe..\")\n",
    "    # create sparse_matrix and store it for after usage.\n",
    "    # csr_matrix(data_values, (row_index, col_index), shape_of_matrix)\n",
    "    # It should be in such a way that, MATRIX[row, col] = data\n",
    "    test_sparse_matrix = sparse.csr_matrix((test_df.rating.values, (test_df.user.values,\n",
    "                                               test_df.movie.values)))\n",
    "    \n",
    "    print('Done. It\\'s shape is : (user, movie) : ',test_sparse_matrix.shape)\n",
    "    print('Saving it into disk for furthur usage..')\n",
    "    # save it into disk\n",
    "    sparse.save_npz(\"test_sparse_matrix.npz\", test_sparse_matrix)\n",
    "    print('Done..\\n')\n",
    "    \n",
    "print(datetime.now() - start)"
   ]
  },
  {
   "cell_type": "markdown",
   "metadata": {},
   "source": [
    "<p><b>The Sparsity of Test data Matrix</b></p>"
   ]
  },
  {
   "cell_type": "code",
   "execution_count": 22,
   "metadata": {},
   "outputs": [
    {
     "name": "stdout",
     "output_type": "stream",
     "text": [
      "Sparsity Of Test matrix : 99.95731772988694 % \n"
     ]
    }
   ],
   "source": [
    "us,mv = test_sparse_matrix.shape\n",
    "elem = test_sparse_matrix.count_nonzero()\n",
    "\n",
    "print(\"Sparsity Of Test matrix : {} % \".format(  (1-(elem/(us*mv))) * 100) )"
   ]
  },
  {
   "cell_type": "markdown",
   "metadata": {},
   "source": [
    "<h3>Finding Global average of all movie ratings, Average rating per user, and Average rating per movie</h3>"
   ]
  },
  {
   "cell_type": "markdown",
   "metadata": {},
   "source": [
    "- Global Average"
   ]
  },
  {
   "cell_type": "code",
   "execution_count": 23,
   "metadata": {},
   "outputs": [
    {
     "data": {
      "text/plain": [
       "{'global': 3.582890686321557}"
      ]
     },
     "execution_count": 23,
     "metadata": {},
     "output_type": "execute_result"
    }
   ],
   "source": [
    "train_averages = dict()\n",
    "# get the global average of ratings in our train set.\n",
    "train_global_average = train_sparse_matrix.sum()/train_sparse_matrix.count_nonzero()\n",
    "train_averages['global'] = train_global_average\n",
    "train_averages"
   ]
  },
  {
   "cell_type": "markdown",
   "metadata": {},
   "source": [
    "- Average Rating per user"
   ]
  },
  {
   "cell_type": "code",
   "execution_count": 24,
   "metadata": {},
   "outputs": [],
   "source": [
    "# get the user averages in dictionary (key: user_id/movie_id, value: avg rating)\n",
    "def get_average_ratings(sparse_matrix, of_users):\n",
    "    # average ratings of user/axes\n",
    "    ax = 1 if of_users else 0 # 1 - User axes,0 - Movie axes\n",
    "    # \".A1\" is for converting Column_Matrix to 1-D numpy array \n",
    "    sum_of_ratings = sparse_matrix.sum(axis=ax).A1\n",
    "    # Boolean matrix of ratings ( whether a user rated that movie or not)\n",
    "    is_rated = sparse_matrix!=0\n",
    "    # no of ratings that each user OR movie..\n",
    "    no_of_ratings = is_rated.sum(axis=ax).A1\n",
    "    # max_user  and max_movie ids in sparse matrix \n",
    "    u,m = sparse_matrix.shape\n",
    "    # creae a dictonary of users and their average ratigns..\n",
    "    average_ratings = { i : sum_of_ratings[i]/no_of_ratings[i] for i in range(u if of_users else m) \n",
    "                                    if no_of_ratings[i] !=0}\n",
    "    # return that dictionary of average ratings\n",
    "    return average_ratings"
   ]
  },
  {
   "cell_type": "code",
   "execution_count": 25,
   "metadata": {},
   "outputs": [
    {
     "name": "stdout",
     "output_type": "stream",
     "text": [
      "\n",
      "Average rating of user 10 : 3.3781094527363185\n"
     ]
    }
   ],
   "source": [
    "train_averages['user'] = get_average_ratings(train_sparse_matrix, of_users=True)\n",
    "print('\\nAverage rating of user 10 :',train_averages['user'][10])"
   ]
  },
  {
   "cell_type": "code",
   "execution_count": 26,
   "metadata": {},
   "outputs": [
    {
     "name": "stdout",
     "output_type": "stream",
     "text": [
      "\n",
      " AVerage rating of movie 15 : 3.3038461538461537\n"
     ]
    }
   ],
   "source": [
    "train_averages['movie'] =  get_average_ratings(train_sparse_matrix, of_users=False)\n",
    "print('\\n AVerage rating of movie 15 :',train_averages['movie'][15])"
   ]
  },
  {
   "cell_type": "markdown",
   "metadata": {},
   "source": [
    "<h4> PDF's & CDF's of Avg.Ratings of Users & Movies (In Train Data)</h4>"
   ]
  },
  {
   "cell_type": "code",
   "execution_count": 27,
   "metadata": {},
   "outputs": [
    {
     "data": {
      "image/png": "[encoded data removed]",
      "text/plain": [
       "<Figure size 576x288 with 2 Axes>"
      ]
     },
     "metadata": {
      "needs_background": "light"
     },
     "output_type": "display_data"
    }
   ],
   "source": [
    "# draw pdfs for average rating per user and average\n",
    "fig, (ax1, ax2) = plt.subplots(nrows=1, ncols=2, figsize=plt.figaspect(.5))\n",
    "fig.suptitle('Avg Ratings per User and per Movie', fontsize=15)\n",
    "\n",
    "ax1.set_title('Users-Avg-Ratings')\n",
    "# get the list of average user ratings from the averages dictionary..\n",
    "user_averages = [rat for rat in train_averages['user'].values()]\n",
    "sns.distplot(user_averages, ax=ax1, hist=False, \n",
    "             kde_kws=dict(cumulative=True), label='Cdf')\n",
    "sns.distplot(user_averages, ax=ax1, hist=False,label='Pdf')\n",
    "\n",
    "ax2.set_title('Movies-Avg-Rating')\n",
    "# get the list of movie_average_ratings from the dictionary..\n",
    "movie_averages = [rat for rat in train_averages['movie'].values()]\n",
    "sns.distplot(movie_averages, ax=ax2, hist=False, \n",
    "             kde_kws=dict(cumulative=True), label='Cdf')\n",
    "sns.distplot(movie_averages, ax=ax2, hist=False, label='Pdf')\n",
    "\n",
    "plt.show()\n"
   ]
  },
  {
   "cell_type": "markdown",
   "metadata": {},
   "source": [
    "<h4> Cold Start problem with Users</h4>"
   ]
  },
  {
   "cell_type": "code",
   "execution_count": 28,
   "metadata": {},
   "outputs": [
    {
     "name": "stdout",
     "output_type": "stream",
     "text": [
      "\n",
      "Total number of Users  : 480189\n",
      "\n",
      "Number of Users in Train data : 405041\n",
      "\n",
      "No of Users that didn't appear in train data: 75148(15.65 %) \n",
      " \n"
     ]
    }
   ],
   "source": [
    "total_users = len(np.unique(df.user))\n",
    "users_train = len(train_averages['user'])\n",
    "new_users = total_users - users_train\n",
    "\n",
    "print('\\nTotal number of Users  :', total_users)\n",
    "print('\\nNumber of Users in Train data :', users_train)\n",
    "print(\"\\nNo of Users that didn't appear in train data: {}({} %) \\n \".format(new_users,\n",
    "                                                                        np.round((new_users/total_users)*100, 2)))"
   ]
  },
  {
   "cell_type": "markdown",
   "metadata": {},
   "source": [
    "- We have to handle 75148 user who didn't appear in the train data"
   ]
  },
  {
   "cell_type": "markdown",
   "metadata": {},
   "source": [
    "<h4>Cold Start problem with Movies</h4>"
   ]
  },
  {
   "cell_type": "code",
   "execution_count": 29,
   "metadata": {},
   "outputs": [
    {
     "name": "stdout",
     "output_type": "stream",
     "text": [
      "\n",
      "Total number of Movies  : 17770\n",
      "\n",
      "Number of Users in Train data : 17424\n",
      "\n",
      "No of Movies that didn't appear in train data: 346(1.95 %) \n",
      " \n"
     ]
    }
   ],
   "source": [
    "total_movies = len(np.unique(df.movie))\n",
    "movies_train = len(train_averages['movie'])\n",
    "new_movies = total_movies - movies_train\n",
    "\n",
    "print('\\nTotal number of Movies  :', total_movies)\n",
    "print('\\nNumber of Users in Train data :', movies_train)\n",
    "print(\"\\nNo of Movies that didn't appear in train data: {}({} %) \\n \".format(new_movies,\n",
    "                                                                        np.round((new_movies/total_movies)*100, 2)))"
   ]
  },
  {
   "cell_type": "markdown",
   "metadata": {},
   "source": [
    "- We have to handle 346 movies what didn't appeared in the train data (small comparatively)"
   ]
  },
  {
   "cell_type": "markdown",
   "metadata": {},
   "source": [
    "<h3> Computing User-User Similarity matrix </h3>"
   ]
  },
  {
   "cell_type": "markdown",
   "metadata": {},
   "source": [
    "1. Calculating User User Similarity_Matrix is __not very easy__(_unless you have huge Computing Power and lots of time_) because of number of. users being very large.\n",
    "\n",
    "    * You can try if you want to. Your system could crash or the program stops with **Memory Error**\n",
    "2. There are 405K users and each user have 17K dimensions (very Large Data) "
   ]
  },
  {
   "cell_type": "markdown",
   "metadata": {},
   "source": [
    "-An alternative is to compute similar users for a particular user,  whenenver required (**ie., Run time**)\n",
    "    - We maintain a binary Vector for users, which tells us whether we already computed or not..\n",
    "    - ***If not*** : \n",
    "        - Compute top (let's just say, 1000) most similar users for this given user, and add this to our datastructure, so that we can just access it(similar users) without recomputing it again.\n",
    "        - \n",
    "    - ***If It is already Computed***:\n",
    "        - Just get it directly from our datastructure, which has that information.\n",
    "        - In production time, We might have to recompute similarities, if it is computed a long time ago. Because user preferences changes over time. If we could maintain some kind of Timer, which when expires, we have to update it ( recompute it ). \n",
    "        - \n",
    "    - ***Which datastructure to use:***\n",
    "        - It is purely implementation dependant. \n",
    "        - One simple method is to maintain a **Dictionary Of Dictionaries**.\n",
    "            - \n",
    "            - **key    :** _userid_ \n",
    "            - __value__: _Again a dictionary_\n",
    "                - __key__  : _Similar User_\n",
    "                - __value__: _Similarity Value_"
   ]
  },
  {
   "cell_type": "markdown",
   "metadata": {},
   "source": [
    "<h3> Computing Movie-Movie Similarity matrix </h3>"
   ]
  },
  {
   "cell_type": "code",
   "execution_count": 30,
   "metadata": {},
   "outputs": [
    {
     "name": "stdout",
     "output_type": "stream",
     "text": [
      "It is there, We will get it.\n",
      "Done ...\n",
      "It's a  (17771, 17771)  dimensional matrix\n",
      "0:00:25.649872\n"
     ]
    }
   ],
   "source": [
    "start = datetime.now()\n",
    "if not os.path.isfile('m_m_sim_sparse.npz'):\n",
    "    print(\"It seems you don't have that file. Computing movie_movie similarity...\")\n",
    "    start = datetime.now()\n",
    "    m_m_sim_sparse = cosine_similarity(X=train_sparse_matrix.T, dense_output=False)\n",
    "    print(\"Done..\")\n",
    "    # store this sparse matrix in disk before using it. For future purposes.\n",
    "    print(\"Saving it to disk without the need of re-computing it again.. \")\n",
    "    sparse.save_npz(\"m_m_sim_sparse.npz\", m_m_sim_sparse)\n",
    "    print(\"Done..\")\n",
    "else:\n",
    "    print(\"It is there, We will get it.\")\n",
    "    m_m_sim_sparse = sparse.load_npz(\"m_m_sim_sparse.npz\")\n",
    "    print(\"Done ...\")\n",
    "\n",
    "print(\"It's a \",m_m_sim_sparse.shape,\" dimensional matrix\")\n",
    "\n",
    "print(datetime.now() - start)"
   ]
  },
  {
   "cell_type": "markdown",
   "metadata": {},
   "source": [
    "- Even though we have similarity measure of each movie, with all other movies, We generally don't care much about least similar movies.\n",
    "\n",
    "\n",
    "- Most of the times, only top_xxx similar items matters. It may be 10 or 100.\n",
    "\n",
    "\n",
    "- We take only those top similar movie ratings and store them  in a saperate dictionary."
   ]
  },
  {
   "cell_type": "code",
   "execution_count": 31,
   "metadata": {},
   "outputs": [
    {
     "name": "stdout",
     "output_type": "stream",
     "text": [
      "0:00:25.833307\n"
     ]
    }
   ],
   "source": [
    "movie_ids = np.unique(m_m_sim_sparse.nonzero()[1])\n",
    "start = datetime.now()\n",
    "similar_movies = dict()\n",
    "for movie in movie_ids:\n",
    "    # get the top similar movies and store them in the dictionary\n",
    "    sim_movies = m_m_sim_sparse[movie].toarray().ravel().argsort()[::-1][1:]\n",
    "    similar_movies[movie] = sim_movies[:100]\n",
    "print(datetime.now() - start)"
   ]
  },
  {
   "cell_type": "markdown",
   "metadata": {},
   "source": [
    "<h3>Finding most similar movies using similarity matrix </h3>"
   ]
  },
  {
   "cell_type": "code",
   "execution_count": 32,
   "metadata": {},
   "outputs": [
    {
     "name": "stdout",
     "output_type": "stream",
     "text": [
      "Tokenization took: 4.00 ms\n",
      "Type conversion took: 9.01 ms\n",
      "Parser memory cleanup took: 0.00 ms\n"
     ]
    },
    {
     "data": {
      "text/html": [
       "<div>\n",
       "<style scoped>\n",
       "    .dataframe tbody tr th:only-of-type {\n",
       "        vertical-align: middle;\n",
       "    }\n",
       "\n",
       "    .dataframe tbody tr th {\n",
       "        vertical-align: top;\n",
       "    }\n",
       "\n",
       "    .dataframe thead th {\n",
       "        text-align: right;\n",
       "    }\n",
       "</style>\n",
       "<table border=\"1\" class=\"dataframe\">\n",
       "  <thead>\n",
       "    <tr style=\"text-align: right;\">\n",
       "      <th></th>\n",
       "      <th>year_of_release</th>\n",
       "      <th>title</th>\n",
       "    </tr>\n",
       "    <tr>\n",
       "      <th>movie_id</th>\n",
       "      <th></th>\n",
       "      <th></th>\n",
       "    </tr>\n",
       "  </thead>\n",
       "  <tbody>\n",
       "    <tr>\n",
       "      <th>1</th>\n",
       "      <td>2003.0</td>\n",
       "      <td>Dinosaur Planet</td>\n",
       "    </tr>\n",
       "    <tr>\n",
       "      <th>2</th>\n",
       "      <td>2004.0</td>\n",
       "      <td>Isle of Man TT 2004 Review</td>\n",
       "    </tr>\n",
       "    <tr>\n",
       "      <th>3</th>\n",
       "      <td>1997.0</td>\n",
       "      <td>Character</td>\n",
       "    </tr>\n",
       "    <tr>\n",
       "      <th>4</th>\n",
       "      <td>1994.0</td>\n",
       "      <td>Paula Abdul's Get Up &amp; Dance</td>\n",
       "    </tr>\n",
       "    <tr>\n",
       "      <th>5</th>\n",
       "      <td>2004.0</td>\n",
       "      <td>The Rise and Fall of ECW</td>\n",
       "    </tr>\n",
       "  </tbody>\n",
       "</table>\n",
       "</div>"
      ],
      "text/plain": [
       "          year_of_release                         title\n",
       "movie_id                                               \n",
       "1                  2003.0               Dinosaur Planet\n",
       "2                  2004.0    Isle of Man TT 2004 Review\n",
       "3                  1997.0                     Character\n",
       "4                  1994.0  Paula Abdul's Get Up & Dance\n",
       "5                  2004.0      The Rise and Fall of ECW"
      ]
     },
     "execution_count": 32,
     "metadata": {},
     "output_type": "execute_result"
    }
   ],
   "source": [
    "movie_titles = pd.read_csv(\"data_folder/movie_titles.csv\", sep=',', header = None,\n",
    "                           names=['movie_id', 'year_of_release', 'title'], verbose=True,\n",
    "                      index_col = 'movie_id', encoding = \"ISO-8859-1\",on_bad_lines='skip')\n",
    "\n",
    "movie_titles.head()"
   ]
  },
  {
   "cell_type": "markdown",
   "metadata": {},
   "source": [
    "<p style='font-size:15px'><b>Similar Movies for 'Vampire Journals'</b></p>"
   ]
  },
  {
   "cell_type": "code",
   "execution_count": 33,
   "metadata": {},
   "outputs": [
    {
     "name": "stdout",
     "output_type": "stream",
     "text": [
      "\n",
      "Movie -----> Vampire Journals\n",
      "\n",
      "It has 270 Ratings from users.\n",
      "\n",
      "We have 17284 movies which are similarto this  and we will get only top most.\n"
     ]
    }
   ],
   "source": [
    "mv_id = 67\n",
    "\n",
    "print(\"\\nMovie ----->\",movie_titles.loc[mv_id].values[1])\n",
    "\n",
    "print(\"\\nIt has {} Ratings from users.\".format(train_sparse_matrix[:,mv_id].getnnz()))\n",
    "\n",
    "print(\"\\nWe have {} movies which are similarto this  and we will get only top most.\".format(m_m_sim_sparse[:,mv_id].getnnz()))"
   ]
  },
  {
   "cell_type": "code",
   "execution_count": 34,
   "metadata": {},
   "outputs": [],
   "source": [
    "similarities = m_m_sim_sparse[mv_id].toarray().ravel()\n",
    "similar_indices = similarities.argsort()[::-1][1:]\n",
    "similarities[similar_indices]\n",
    "sim_indices = similarities.argsort()[::-1][1:]"
   ]
  },
  {
   "cell_type": "code",
   "execution_count": 35,
   "metadata": {},
   "outputs": [
    {
     "data": {
      "image/png": "[encoded data removed]",
      "text/plain": [
       "<Figure size 432x288 with 1 Axes>"
      ]
     },
     "metadata": {
      "needs_background": "light"
     },
     "output_type": "display_data"
    }
   ],
   "source": [
    "plt.plot(similarities[sim_indices], label='All the ratings')\n",
    "plt.plot(similarities[sim_indices[:100]], label='top 100 similar movies')\n",
    "plt.title(\"Similar Movies of {}(movie_id)\".format(mv_id), fontsize=20)\n",
    "plt.xlabel(\"Movies (Not Movie_Ids)\", fontsize=15)\n",
    "plt.ylabel(\"Cosine Similarity\",fontsize=15)\n",
    "plt.legend()\n",
    "plt.show()"
   ]
  },
  {
   "cell_type": "markdown",
   "metadata": {},
   "source": [
    "- Top 10 similar movies"
   ]
  },
  {
   "cell_type": "code",
   "execution_count": 36,
   "metadata": {},
   "outputs": [
    {
     "data": {
      "text/html": [
       "<div>\n",
       "<style scoped>\n",
       "    .dataframe tbody tr th:only-of-type {\n",
       "        vertical-align: middle;\n",
       "    }\n",
       "\n",
       "    .dataframe tbody tr th {\n",
       "        vertical-align: top;\n",
       "    }\n",
       "\n",
       "    .dataframe thead th {\n",
       "        text-align: right;\n",
       "    }\n",
       "</style>\n",
       "<table border=\"1\" class=\"dataframe\">\n",
       "  <thead>\n",
       "    <tr style=\"text-align: right;\">\n",
       "      <th></th>\n",
       "      <th>year_of_release</th>\n",
       "      <th>title</th>\n",
       "    </tr>\n",
       "    <tr>\n",
       "      <th>movie_id</th>\n",
       "      <th></th>\n",
       "      <th></th>\n",
       "    </tr>\n",
       "  </thead>\n",
       "  <tbody>\n",
       "    <tr>\n",
       "      <th>323</th>\n",
       "      <td>1999.0</td>\n",
       "      <td>Modern Vampires</td>\n",
       "    </tr>\n",
       "    <tr>\n",
       "      <th>4044</th>\n",
       "      <td>1998.0</td>\n",
       "      <td>Subspecies 4: Bloodstorm</td>\n",
       "    </tr>\n",
       "    <tr>\n",
       "      <th>1688</th>\n",
       "      <td>1993.0</td>\n",
       "      <td>To Sleep With a Vampire</td>\n",
       "    </tr>\n",
       "    <tr>\n",
       "      <th>13962</th>\n",
       "      <td>2001.0</td>\n",
       "      <td>Dracula: The Dark Prince</td>\n",
       "    </tr>\n",
       "    <tr>\n",
       "      <th>12053</th>\n",
       "      <td>1993.0</td>\n",
       "      <td>Dracula Rising</td>\n",
       "    </tr>\n",
       "    <tr>\n",
       "      <th>16279</th>\n",
       "      <td>2002.0</td>\n",
       "      <td>Vampires: Los Muertos</td>\n",
       "    </tr>\n",
       "    <tr>\n",
       "      <th>4667</th>\n",
       "      <td>1996.0</td>\n",
       "      <td>Vampirella</td>\n",
       "    </tr>\n",
       "    <tr>\n",
       "      <th>1900</th>\n",
       "      <td>1997.0</td>\n",
       "      <td>Club Vampire</td>\n",
       "    </tr>\n",
       "    <tr>\n",
       "      <th>13873</th>\n",
       "      <td>2001.0</td>\n",
       "      <td>The Breed</td>\n",
       "    </tr>\n",
       "    <tr>\n",
       "      <th>15867</th>\n",
       "      <td>2003.0</td>\n",
       "      <td>Dracula II: Ascension</td>\n",
       "    </tr>\n",
       "  </tbody>\n",
       "</table>\n",
       "</div>"
      ],
      "text/plain": [
       "          year_of_release                     title\n",
       "movie_id                                           \n",
       "323                1999.0           Modern Vampires\n",
       "4044               1998.0  Subspecies 4: Bloodstorm\n",
       "1688               1993.0   To Sleep With a Vampire\n",
       "13962              2001.0  Dracula: The Dark Prince\n",
       "12053              1993.0            Dracula Rising\n",
       "16279              2002.0     Vampires: Los Muertos\n",
       "4667               1996.0                Vampirella\n",
       "1900               1997.0              Club Vampire\n",
       "13873              2001.0                 The Breed\n",
       "15867              2003.0     Dracula II: Ascension"
      ]
     },
     "execution_count": 36,
     "metadata": {},
     "output_type": "execute_result"
    }
   ],
   "source": [
    "movie_titles.loc[sim_indices[:10]]"
   ]
  },
  {
   "cell_type": "markdown",
   "metadata": {},
   "source": [
    "# Sampling Data"
   ]
  },
  {
   "cell_type": "code",
   "execution_count": 37,
   "metadata": {},
   "outputs": [],
   "source": [
    "def get_sample_sparse_matrix(sparse_matrix, no_users, no_movies, path, verbose = True):\n",
    "    \"\"\"\n",
    "        It will get it from the ''path'' if it is present  or It will create \n",
    "        and store the sampled sparse matrix in the path specified.\n",
    "    \"\"\"\n",
    "\n",
    "    # get (row, col) and (rating) tuple from sparse_matrix...\n",
    "    row_ind, col_ind, ratings = sparse.find(sparse_matrix)\n",
    "    users = np.unique(row_ind)\n",
    "    movies = np.unique(col_ind)\n",
    "\n",
    "    print(\"Original Matrix : (users, movies) -- ({} {})\".format(len(users), len(movies)))\n",
    "    print(\"Original Matrix : Ratings -- {}\\n\".format(len(ratings)))\n",
    "\n",
    "    # It just to make sure to get same sample everytime we run this program..\n",
    "    # and pick without replacement....\n",
    "    np.random.seed(15)\n",
    "    sample_users = np.random.choice(users, no_users, replace=False)\n",
    "    sample_movies = np.random.choice(movies, no_movies, replace=False)\n",
    "    # get the boolean mask or these sampled_items in originl row/col_inds..\n",
    "    mask = np.logical_and( np.isin(row_ind, sample_users),\n",
    "                      np.isin(col_ind, sample_movies) )\n",
    "    \n",
    "    sample_sparse_matrix = sparse.csr_matrix((ratings[mask], (row_ind[mask], col_ind[mask])),\n",
    "                                             shape=(max(sample_users)+1, max(sample_movies)+1))\n",
    "\n",
    "    if verbose:\n",
    "        print(\"Sampled Matrix : (users, movies) -- ({} {})\".format(len(sample_users), len(sample_movies)))\n",
    "        print(\"Sampled Matrix : Ratings --\", format(ratings[mask].shape[0]))\n",
    "\n",
    "    print('Saving it into disk for furthur usage..')\n",
    "    # save it into disk\n",
    "    sparse.save_npz(path, sample_sparse_matrix)\n",
    "    if verbose:\n",
    "            print('Done..\\n')\n",
    "    \n",
    "    return sample_sparse_matrix"
   ]
  },
  {
   "cell_type": "markdown",
   "metadata": {},
   "source": [
    "<h3>Build sample train data from the train data</h3>"
   ]
  },
  {
   "cell_type": "code",
   "execution_count": 38,
   "metadata": {},
   "outputs": [
    {
     "name": "stdout",
     "output_type": "stream",
     "text": [
      "It is present in your pwd, getting it from disk....\n",
      "DONE..\n",
      "0:00:00.291265\n"
     ]
    }
   ],
   "source": [
    "start = datetime.now()\n",
    "path = \"sample/small/sample_train_sparse_matrix.npz\"\n",
    "if os.path.isfile(path):\n",
    "    print(\"It is present in your pwd, getting it from disk....\")\n",
    "    # just get it from the disk instead of computing it\n",
    "    sample_train_sparse_matrix = sparse.load_npz(path)\n",
    "    print(\"DONE..\")\n",
    "else: \n",
    "    # get 10k users and 1k movies from available data \n",
    "    sample_train_sparse_matrix = get_sample_sparse_matrix(train_sparse_matrix, no_users=30000, no_movies=5000,\n",
    "                                             path = path)\n",
    "\n",
    "print(datetime.now() - start)"
   ]
  },
  {
   "cell_type": "markdown",
   "metadata": {},
   "source": [
    "<h3>Build sample test data from the test data</h3>"
   ]
  },
  {
   "cell_type": "code",
   "execution_count": 39,
   "metadata": {},
   "outputs": [
    {
     "name": "stdout",
     "output_type": "stream",
     "text": [
      "It is present in your pwd, getting it from disk....\n",
      "DONE..\n",
      "0:00:00.076069\n"
     ]
    }
   ],
   "source": [
    "start = datetime.now()\n",
    "\n",
    "path = \"sample/small/sample_test_sparse_matrix.npz\"\n",
    "if os.path.isfile(path):\n",
    "    print(\"It is present in your pwd, getting it from disk....\")\n",
    "    # just get it from the disk instead of computing it\n",
    "    sample_test_sparse_matrix = sparse.load_npz(path)\n",
    "    print(\"DONE..\")\n",
    "else:\n",
    "    # get 5k users and 500 movies from available data \n",
    "    sample_test_sparse_matrix = get_sample_sparse_matrix(test_sparse_matrix, no_users=6000, no_movies=800,\n",
    "                                                 path = \"sample/small/sample_test_sparse_matrix.npz\")\n",
    "print(datetime.now() - start)"
   ]
  },
  {
   "cell_type": "markdown",
   "metadata": {},
   "source": [
    "<h2>Finding Global Average of all movie ratings, Average rating per User, and Average rating per Movie (from sampled train)</h2>"
   ]
  },
  {
   "cell_type": "code",
   "execution_count": 40,
   "metadata": {},
   "outputs": [
    {
     "data": {
      "text/plain": [
       "{'global': 3.5856325869700423}"
      ]
     },
     "execution_count": 40,
     "metadata": {},
     "output_type": "execute_result"
    }
   ],
   "source": [
    "sample_train_averages = dict()\n",
    "global_average = sample_train_sparse_matrix.sum()/sample_train_sparse_matrix.count_nonzero()\n",
    "sample_train_averages['global'] = global_average\n",
    "sample_train_averages"
   ]
  },
  {
   "cell_type": "code",
   "execution_count": 41,
   "metadata": {},
   "outputs": [],
   "source": [
    "sample_train_averages['user'] = get_average_ratings(sample_train_sparse_matrix, of_users=True)\n",
    "sample_train_averages['movie'] =  get_average_ratings(sample_train_sparse_matrix, of_users=False)"
   ]
  },
  {
   "cell_type": "markdown",
   "metadata": {},
   "source": [
    "### Final sampled data "
   ]
  },
  {
   "cell_type": "code",
   "execution_count": 42,
   "metadata": {},
   "outputs": [
    {
     "name": "stdout",
     "output_type": "stream",
     "text": [
      "No of ratings in Our Sampled train matrix is : 1763797\n",
      "No of ratings in Our Sampled test  matrix is : 16256\n"
     ]
    }
   ],
   "source": [
    "print('No of ratings in Our Sampled train matrix is : {}'.format(sample_train_sparse_matrix.count_nonzero()))\n",
    "print('No of ratings in Our Sampled test  matrix is : {}'.format(sample_test_sparse_matrix.count_nonzero()))"
   ]
  },
  {
   "cell_type": "markdown",
   "metadata": {},
   "source": [
    " <h1>  Machine Learning Models </h1>"
   ]
  },
  {
   "cell_type": "markdown",
   "metadata": {},
   "source": [
    "<h4> Featurizing train data </h4>"
   ]
  },
  {
   "cell_type": "markdown",
   "metadata": {},
   "source": [
    "-----------------------\n",
    "\n",
    "- __GAvg__ : Average rating of all the ratings \n",
    "\n",
    "\n",
    "- __Similar users rating of this movie__:\n",
    "    - sur1, sur2, sur3, sur4, sur5 ( top 5 similar users who rated that movie.. )\n",
    "    \n",
    "\n",
    "\n",
    "- __Similar movies rated by this user__:\n",
    "    - smr1, smr2, smr3, smr4, smr5 ( top 5 similar movies rated by this movie.. )\n",
    "\n",
    "\n",
    "- __UAvg__ : User's Average rating\n",
    "\n",
    "\n",
    "- __MAvg__ : Average rating of this movie\n",
    "\n",
    "\n",
    "- __rating__ : Rating of this movie by this user.\n",
    "\n",
    "-----------------------"
   ]
  },
  {
   "cell_type": "code",
   "execution_count": 43,
   "metadata": {},
   "outputs": [],
   "source": [
    "# get users, movies and ratings from our samples train sparse matrix\n",
    "sample_train_users, sample_train_movies, sample_train_ratings = sparse.find(sample_train_sparse_matrix)"
   ]
  },
  {
   "cell_type": "code",
   "execution_count": 44,
   "metadata": {},
   "outputs": [
    {
     "name": "stdout",
     "output_type": "stream",
     "text": [
      "File already exists you don't have to prepare again...\n",
      "0:00:00.106096\n"
     ]
    }
   ],
   "source": [
    "start = datetime.now()\n",
    "if os.path.isfile('sample/small/reg_train.csv'):\n",
    "    print(\"File already exists you don't have to prepare again...\" )\n",
    "else:\n",
    "    print('preparing {} tuples for the dataset..\\n'.format(len(sample_train_ratings)))\n",
    "    with open('sample/small/reg_train.csv', mode='w') as reg_data_file:\n",
    "        count = 0\n",
    "        for (user, movie, rating)  in zip(sample_train_users, sample_train_movies, sample_train_ratings):\n",
    "            st = datetime.now()\n",
    "        #     print(user, movie)    \n",
    "            #--------------------- Ratings of \"movie\" by similar users of \"user\" ---------------------\n",
    "            # compute the similar Users of the \"user\"        \n",
    "            user_sim = cosine_similarity(sample_train_sparse_matrix[user], sample_train_sparse_matrix).ravel()\n",
    "            top_sim_users = user_sim.argsort()[::-1][1:] # we are ignoring 'The User' from its similar users.\n",
    "            # get the ratings of most similar users for this movie\n",
    "            top_ratings = sample_train_sparse_matrix[top_sim_users, movie].toarray().ravel()\n",
    "            # we will make it's length \"5\" by adding movie averages to .\n",
    "            top_sim_users_ratings = list(top_ratings[top_ratings != 0][:5])\n",
    "            top_sim_users_ratings.extend([sample_train_averages['movie'][movie]]*(5 - len(top_sim_users_ratings)))\n",
    "        #     print(top_sim_users_ratings, end=\" \")    \n",
    "\n",
    "\n",
    "            #--------------------- Ratings by \"user\"  to similar movies of \"movie\" ---------------------\n",
    "            # compute the similar movies of the \"movie\"        \n",
    "            movie_sim = cosine_similarity(sample_train_sparse_matrix[:,movie].T, sample_train_sparse_matrix.T).ravel()\n",
    "            top_sim_movies = movie_sim.argsort()[::-1][1:] # we are ignoring 'The User' from its similar users.\n",
    "            # get the ratings of most similar movie rated by this user..\n",
    "            top_ratings = sample_train_sparse_matrix[user, top_sim_movies].toarray().ravel()\n",
    "            # we will make it's length \"5\" by adding user averages to.\n",
    "            top_sim_movies_ratings = list(top_ratings[top_ratings != 0][:5])\n",
    "            top_sim_movies_ratings.extend([sample_train_averages['user'][user]]*(5-len(top_sim_movies_ratings))) \n",
    "        #     print(top_sim_movies_ratings, end=\" : -- \")\n",
    "\n",
    "            #-----------------prepare the row to be stores in a file-----------------#\n",
    "            row = list()\n",
    "            row.append(user)\n",
    "            row.append(movie)\n",
    "            # Now add the other features to this data...\n",
    "            row.append(sample_train_averages['global']) # first feature\n",
    "            # next 5 features are similar_users \"movie\" ratings\n",
    "            row.extend(top_sim_users_ratings)\n",
    "            # next 5 features are \"user\" ratings for similar_movies\n",
    "            row.extend(top_sim_movies_ratings)\n",
    "            # Avg_user rating\n",
    "            row.append(sample_train_averages['user'][user])\n",
    "            # Avg_movie rating\n",
    "            row.append(sample_train_averages['movie'][movie])\n",
    "\n",
    "            # finalley, The actual Rating of this user-movie pair...\n",
    "            row.append(rating)\n",
    "            count = count + 1\n",
    "\n",
    "            # add rows to the file opened..\n",
    "            reg_data_file.write(','.join(map(str, row)))\n",
    "            reg_data_file.write('\\n')        \n",
    "            if (count)%10000 == 0:\n",
    "                # print(','.join(map(str, row)))\n",
    "                print(\"Done for {} rows----- {}\".format(count, datetime.now() - start))\n",
    "\n",
    "\n",
    "print(datetime.now() - start)"
   ]
  },
  {
   "cell_type": "code",
   "execution_count": 3,
   "metadata": {},
   "outputs": [
    {
     "data": {
      "text/html": [
       "<div>\n",
       "<style scoped>\n",
       "    .dataframe tbody tr th:only-of-type {\n",
       "        vertical-align: middle;\n",
       "    }\n",
       "\n",
       "    .dataframe tbody tr th {\n",
       "        vertical-align: top;\n",
       "    }\n",
       "\n",
       "    .dataframe thead th {\n",
       "        text-align: right;\n",
       "    }\n",
       "</style>\n",
       "<table border=\"1\" class=\"dataframe\">\n",
       "  <thead>\n",
       "    <tr style=\"text-align: right;\">\n",
       "      <th></th>\n",
       "      <th>user</th>\n",
       "      <th>movie</th>\n",
       "      <th>GAvg</th>\n",
       "      <th>sur1</th>\n",
       "      <th>sur2</th>\n",
       "      <th>sur3</th>\n",
       "      <th>sur4</th>\n",
       "      <th>sur5</th>\n",
       "      <th>smr1</th>\n",
       "      <th>smr2</th>\n",
       "      <th>smr3</th>\n",
       "      <th>smr4</th>\n",
       "      <th>smr5</th>\n",
       "      <th>UAvg</th>\n",
       "      <th>MAvg</th>\n",
       "      <th>rating</th>\n",
       "    </tr>\n",
       "  </thead>\n",
       "  <tbody>\n",
       "    <tr>\n",
       "      <th>0</th>\n",
       "      <td>124742</td>\n",
       "      <td>5</td>\n",
       "      <td>3.585633</td>\n",
       "      <td>4.0</td>\n",
       "      <td>5.0</td>\n",
       "      <td>1.0</td>\n",
       "      <td>1.0</td>\n",
       "      <td>3.0</td>\n",
       "      <td>4.0</td>\n",
       "      <td>3.0</td>\n",
       "      <td>5.0</td>\n",
       "      <td>3.0</td>\n",
       "      <td>5.0</td>\n",
       "      <td>3.700787</td>\n",
       "      <td>4.142857</td>\n",
       "      <td>5</td>\n",
       "    </tr>\n",
       "    <tr>\n",
       "      <th>1</th>\n",
       "      <td>261262</td>\n",
       "      <td>5</td>\n",
       "      <td>3.585633</td>\n",
       "      <td>5.0</td>\n",
       "      <td>5.0</td>\n",
       "      <td>5.0</td>\n",
       "      <td>5.0</td>\n",
       "      <td>5.0</td>\n",
       "      <td>3.0</td>\n",
       "      <td>2.0</td>\n",
       "      <td>5.0</td>\n",
       "      <td>2.0</td>\n",
       "      <td>2.8</td>\n",
       "      <td>2.800000</td>\n",
       "      <td>4.142857</td>\n",
       "      <td>2</td>\n",
       "    </tr>\n",
       "    <tr>\n",
       "      <th>2</th>\n",
       "      <td>273956</td>\n",
       "      <td>5</td>\n",
       "      <td>3.585633</td>\n",
       "      <td>3.0</td>\n",
       "      <td>5.0</td>\n",
       "      <td>4.0</td>\n",
       "      <td>5.0</td>\n",
       "      <td>5.0</td>\n",
       "      <td>4.0</td>\n",
       "      <td>3.0</td>\n",
       "      <td>3.0</td>\n",
       "      <td>2.0</td>\n",
       "      <td>4.0</td>\n",
       "      <td>3.224490</td>\n",
       "      <td>4.142857</td>\n",
       "      <td>5</td>\n",
       "    </tr>\n",
       "    <tr>\n",
       "      <th>3</th>\n",
       "      <td>282064</td>\n",
       "      <td>5</td>\n",
       "      <td>3.585633</td>\n",
       "      <td>5.0</td>\n",
       "      <td>5.0</td>\n",
       "      <td>5.0</td>\n",
       "      <td>4.0</td>\n",
       "      <td>5.0</td>\n",
       "      <td>3.0</td>\n",
       "      <td>5.0</td>\n",
       "      <td>4.0</td>\n",
       "      <td>3.0</td>\n",
       "      <td>3.0</td>\n",
       "      <td>3.694444</td>\n",
       "      <td>4.142857</td>\n",
       "      <td>5</td>\n",
       "    </tr>\n",
       "    <tr>\n",
       "      <th>4</th>\n",
       "      <td>284978</td>\n",
       "      <td>5</td>\n",
       "      <td>3.585633</td>\n",
       "      <td>5.0</td>\n",
       "      <td>1.0</td>\n",
       "      <td>4.0</td>\n",
       "      <td>5.0</td>\n",
       "      <td>4.0</td>\n",
       "      <td>5.0</td>\n",
       "      <td>5.0</td>\n",
       "      <td>4.0</td>\n",
       "      <td>4.0</td>\n",
       "      <td>5.0</td>\n",
       "      <td>4.561644</td>\n",
       "      <td>4.142857</td>\n",
       "      <td>5</td>\n",
       "    </tr>\n",
       "  </tbody>\n",
       "</table>\n",
       "</div>"
      ],
      "text/plain": [
       "     user  movie      GAvg  sur1  sur2  sur3  sur4  sur5  smr1  smr2  smr3  \\\n",
       "0  124742      5  3.585633   4.0   5.0   1.0   1.0   3.0   4.0   3.0   5.0   \n",
       "1  261262      5  3.585633   5.0   5.0   5.0   5.0   5.0   3.0   2.0   5.0   \n",
       "2  273956      5  3.585633   3.0   5.0   4.0   5.0   5.0   4.0   3.0   3.0   \n",
       "3  282064      5  3.585633   5.0   5.0   5.0   4.0   5.0   3.0   5.0   4.0   \n",
       "4  284978      5  3.585633   5.0   1.0   4.0   5.0   4.0   5.0   5.0   4.0   \n",
       "\n",
       "   smr4  smr5      UAvg      MAvg  rating  \n",
       "0   3.0   5.0  3.700787  4.142857       5  \n",
       "1   2.0   2.8  2.800000  4.142857       2  \n",
       "2   2.0   4.0  3.224490  4.142857       5  \n",
       "3   3.0   3.0  3.694444  4.142857       5  \n",
       "4   4.0   5.0  4.561644  4.142857       5  "
      ]
     },
     "execution_count": 3,
     "metadata": {},
     "output_type": "execute_result"
    }
   ],
   "source": [
    "reg_train = pd.read_csv('sample/small/reg_train.csv', names = ['user', 'movie', 'GAvg', 'sur1', 'sur2', 'sur3', 'sur4', 'sur5','smr1', 'smr2', 'smr3', 'smr4', 'smr5', 'UAvg', 'MAvg', 'rating'], header=None)\n",
    "reg_train.head()"
   ]
  },
  {
   "cell_type": "code",
   "execution_count": 46,
   "metadata": {},
   "outputs": [],
   "source": [
    "# get users, movies and ratings from the Sampled Test \n",
    "sample_test_users, sample_test_movies, sample_test_ratings = sparse.find(sample_test_sparse_matrix)"
   ]
  },
  {
   "cell_type": "code",
   "execution_count": 47,
   "metadata": {},
   "outputs": [
    {
     "name": "stdout",
     "output_type": "stream",
     "text": [
      "preparing 16256 tuples for the dataset..\n",
      "\n",
      "Done for 1000 rows----- 0:05:45.851095\n",
      "Done for 2000 rows----- 0:11:46.677656\n",
      "Done for 3000 rows----- 0:17:54.032937\n",
      "Done for 4000 rows----- 0:24:12.043860\n",
      "Done for 5000 rows----- 0:30:22.908586\n",
      "Done for 6000 rows----- 0:36:54.991197\n",
      "Done for 7000 rows----- 0:43:19.238834\n",
      "Done for 8000 rows----- 0:49:32.258079\n",
      "Done for 9000 rows----- 0:55:46.322019\n",
      "Done for 10000 rows----- 1:02:10.137734\n",
      "Done for 11000 rows----- 1:08:29.942053\n",
      "Done for 12000 rows----- 1:14:46.818876\n",
      "Done for 13000 rows----- 1:21:12.116833\n",
      "Done for 14000 rows----- 1:27:55.249638\n",
      "Done for 15000 rows----- 1:34:40.995105\n",
      "Done for 16000 rows----- 1:40:48.025524\n",
      " 1:42:18.852755\n"
     ]
    }
   ],
   "source": [
    "start = datetime.now()\n",
    "\n",
    "if os.path.isfile('sample/small/reg_test.csv'):\n",
    "    print(\"It is already created...\")\n",
    "else:\n",
    "\n",
    "    print('preparing {} tuples for the dataset..\\n'.format(len(sample_test_ratings)))\n",
    "    with open('sample/small/reg_test.csv', mode='w') as reg_data_file:\n",
    "        count = 0 \n",
    "        for (user, movie, rating)  in zip(sample_test_users, sample_test_movies, sample_test_ratings):\n",
    "            st = datetime.now()\n",
    "\n",
    "        #--------------------- Ratings of \"movie\" by similar users of \"user\" ---------------------\n",
    "            #print(user, movie)\n",
    "            try:\n",
    "                # compute the similar Users of the \"user\"        \n",
    "                user_sim = cosine_similarity(sample_train_sparse_matrix[user], sample_train_sparse_matrix).ravel()\n",
    "                top_sim_users = user_sim.argsort()[::-1][1:] # we are ignoring 'The User' from its similar users.\n",
    "                # get the ratings of most similar users for this movie\n",
    "                top_ratings = sample_train_sparse_matrix[top_sim_users, movie].toarray().ravel()\n",
    "                # we will make it's length \"5\" by adding movie averages to .\n",
    "                top_sim_users_ratings = list(top_ratings[top_ratings != 0][:5])\n",
    "                top_sim_users_ratings.extend([sample_train_averages['movie'][movie]]*(5 - len(top_sim_users_ratings)))\n",
    "                # print(top_sim_users_ratings, end=\"--\")\n",
    "\n",
    "            except (IndexError, KeyError):\n",
    "                # It is a new User or new Movie or there are no ratings for given user for top similar movies...\n",
    "                ########## Cold STart Problem ##########\n",
    "                top_sim_users_ratings.extend([sample_train_averages['global']]*(5 - len(top_sim_users_ratings)))\n",
    "                #print(top_sim_users_ratings)\n",
    "            except:\n",
    "                print(user, movie)\n",
    "                # we just want KeyErrors to be resolved. Not every Exception...\n",
    "                raise\n",
    "\n",
    "\n",
    "\n",
    "            #--------------------- Ratings by \"user\"  to similar movies of \"movie\" ---------------------\n",
    "            try:\n",
    "                # compute the similar movies of the \"movie\"        \n",
    "                movie_sim = cosine_similarity(sample_train_sparse_matrix[:,movie].T, sample_train_sparse_matrix.T).ravel()\n",
    "                top_sim_movies = movie_sim.argsort()[::-1][1:] # we are ignoring 'The User' from its similar users.\n",
    "                # get the ratings of most similar movie rated by this user..\n",
    "                top_ratings = sample_train_sparse_matrix[user, top_sim_movies].toarray().ravel()\n",
    "                # we will make it's length \"5\" by adding user averages to.\n",
    "                top_sim_movies_ratings = list(top_ratings[top_ratings != 0][:5])\n",
    "                top_sim_movies_ratings.extend([sample_train_averages['user'][user]]*(5-len(top_sim_movies_ratings))) \n",
    "                #print(top_sim_movies_ratings)\n",
    "            except (IndexError, KeyError):\n",
    "                #print(top_sim_movies_ratings, end=\" : -- \")\n",
    "                top_sim_movies_ratings.extend([sample_train_averages['global']]*(5-len(top_sim_movies_ratings)))\n",
    "                #print(top_sim_movies_ratings)\n",
    "            except :\n",
    "                raise\n",
    "\n",
    "            #-----------------prepare the row to be stores in a file-----------------#\n",
    "            row = list()\n",
    "            # add usser and movie name first\n",
    "            row.append(user)\n",
    "            row.append(movie)\n",
    "            row.append(sample_train_averages['global']) # first feature\n",
    "            #print(row)\n",
    "            # next 5 features are similar_users \"movie\" ratings\n",
    "            row.extend(top_sim_users_ratings)\n",
    "            #print(row)\n",
    "            # next 5 features are \"user\" ratings for similar_movies\n",
    "            row.extend(top_sim_movies_ratings)\n",
    "            #print(row)\n",
    "            # Avg_user rating\n",
    "            try:\n",
    "                row.append(sample_train_averages['user'][user])\n",
    "            except KeyError:\n",
    "                row.append(sample_train_averages['global'])\n",
    "            except:\n",
    "                raise\n",
    "            #print(row)\n",
    "            # Avg_movie rating\n",
    "            try:\n",
    "                row.append(sample_train_averages['movie'][movie])\n",
    "            except KeyError:\n",
    "                row.append(sample_train_averages['global'])\n",
    "            except:\n",
    "                raise\n",
    "            #print(row)\n",
    "            # finalley, The actual Rating of this user-movie pair...\n",
    "            row.append(rating)\n",
    "            #print(row)\n",
    "            count = count + 1\n",
    "\n",
    "            # add rows to the file opened..\n",
    "            reg_data_file.write(','.join(map(str, row)))\n",
    "            #print(','.join(map(str, row)))\n",
    "            reg_data_file.write('\\n')        \n",
    "            if (count)%1000 == 0:\n",
    "                #print(','.join(map(str, row)))\n",
    "                print(\"Done for {} rows----- {}\".format(count, datetime.now() - start))\n",
    "    print(\"\",datetime.now() - start)  "
   ]
  },
  {
   "cell_type": "code",
   "execution_count": 4,
   "metadata": {},
   "outputs": [
    {
     "data": {
      "text/html": [
       "<div>\n",
       "<style scoped>\n",
       "    .dataframe tbody tr th:only-of-type {\n",
       "        vertical-align: middle;\n",
       "    }\n",
       "\n",
       "    .dataframe tbody tr th {\n",
       "        vertical-align: top;\n",
       "    }\n",
       "\n",
       "    .dataframe thead th {\n",
       "        text-align: right;\n",
       "    }\n",
       "</style>\n",
       "<table border=\"1\" class=\"dataframe\">\n",
       "  <thead>\n",
       "    <tr style=\"text-align: right;\">\n",
       "      <th></th>\n",
       "      <th>user</th>\n",
       "      <th>movie</th>\n",
       "      <th>GAvg</th>\n",
       "      <th>sur1</th>\n",
       "      <th>sur2</th>\n",
       "      <th>sur3</th>\n",
       "      <th>sur4</th>\n",
       "      <th>sur5</th>\n",
       "      <th>smr1</th>\n",
       "      <th>smr2</th>\n",
       "      <th>smr3</th>\n",
       "      <th>smr4</th>\n",
       "      <th>smr5</th>\n",
       "      <th>UAvg</th>\n",
       "      <th>MAvg</th>\n",
       "      <th>rating</th>\n",
       "    </tr>\n",
       "  </thead>\n",
       "  <tbody>\n",
       "    <tr>\n",
       "      <th>0</th>\n",
       "      <td>808635</td>\n",
       "      <td>71</td>\n",
       "      <td>3.585633</td>\n",
       "      <td>3.585633</td>\n",
       "      <td>3.585633</td>\n",
       "      <td>3.585633</td>\n",
       "      <td>3.585633</td>\n",
       "      <td>3.585633</td>\n",
       "      <td>3.585633</td>\n",
       "      <td>3.585633</td>\n",
       "      <td>3.585633</td>\n",
       "      <td>3.585633</td>\n",
       "      <td>3.585633</td>\n",
       "      <td>3.585633</td>\n",
       "      <td>3.585633</td>\n",
       "      <td>5</td>\n",
       "    </tr>\n",
       "    <tr>\n",
       "      <th>1</th>\n",
       "      <td>941866</td>\n",
       "      <td>71</td>\n",
       "      <td>3.585633</td>\n",
       "      <td>3.585633</td>\n",
       "      <td>3.585633</td>\n",
       "      <td>3.585633</td>\n",
       "      <td>3.585633</td>\n",
       "      <td>3.585633</td>\n",
       "      <td>3.585633</td>\n",
       "      <td>3.585633</td>\n",
       "      <td>3.585633</td>\n",
       "      <td>3.585633</td>\n",
       "      <td>3.585633</td>\n",
       "      <td>3.585633</td>\n",
       "      <td>3.585633</td>\n",
       "      <td>4</td>\n",
       "    </tr>\n",
       "    <tr>\n",
       "      <th>2</th>\n",
       "      <td>1280761</td>\n",
       "      <td>71</td>\n",
       "      <td>3.585633</td>\n",
       "      <td>3.585633</td>\n",
       "      <td>3.585633</td>\n",
       "      <td>3.585633</td>\n",
       "      <td>3.585633</td>\n",
       "      <td>3.585633</td>\n",
       "      <td>3.585633</td>\n",
       "      <td>3.585633</td>\n",
       "      <td>3.585633</td>\n",
       "      <td>3.585633</td>\n",
       "      <td>3.585633</td>\n",
       "      <td>3.585633</td>\n",
       "      <td>3.585633</td>\n",
       "      <td>1</td>\n",
       "    </tr>\n",
       "    <tr>\n",
       "      <th>3</th>\n",
       "      <td>1737912</td>\n",
       "      <td>71</td>\n",
       "      <td>3.585633</td>\n",
       "      <td>3.585633</td>\n",
       "      <td>3.585633</td>\n",
       "      <td>3.585633</td>\n",
       "      <td>3.585633</td>\n",
       "      <td>3.585633</td>\n",
       "      <td>3.585633</td>\n",
       "      <td>3.585633</td>\n",
       "      <td>3.585633</td>\n",
       "      <td>3.585633</td>\n",
       "      <td>3.585633</td>\n",
       "      <td>3.585633</td>\n",
       "      <td>3.585633</td>\n",
       "      <td>3</td>\n",
       "    </tr>\n",
       "  </tbody>\n",
       "</table>\n",
       "</div>"
      ],
      "text/plain": [
       "      user  movie      GAvg      sur1      sur2      sur3      sur4      sur5  \\\n",
       "0   808635     71  3.585633  3.585633  3.585633  3.585633  3.585633  3.585633   \n",
       "1   941866     71  3.585633  3.585633  3.585633  3.585633  3.585633  3.585633   \n",
       "2  1280761     71  3.585633  3.585633  3.585633  3.585633  3.585633  3.585633   \n",
       "3  1737912     71  3.585633  3.585633  3.585633  3.585633  3.585633  3.585633   \n",
       "\n",
       "       smr1      smr2      smr3      smr4      smr5      UAvg      MAvg  \\\n",
       "0  3.585633  3.585633  3.585633  3.585633  3.585633  3.585633  3.585633   \n",
       "1  3.585633  3.585633  3.585633  3.585633  3.585633  3.585633  3.585633   \n",
       "2  3.585633  3.585633  3.585633  3.585633  3.585633  3.585633  3.585633   \n",
       "3  3.585633  3.585633  3.585633  3.585633  3.585633  3.585633  3.585633   \n",
       "\n",
       "   rating  \n",
       "0       5  \n",
       "1       4  \n",
       "2       1  \n",
       "3       3  "
      ]
     },
     "execution_count": 4,
     "metadata": {},
     "output_type": "execute_result"
    }
   ],
   "source": [
    "reg_test_df = pd.read_csv('sample/small/reg_test.csv', names = ['user', 'movie', 'GAvg', 'sur1', 'sur2', 'sur3', 'sur4', 'sur5',\n",
    "                                                          'smr1', 'smr2', 'smr3', 'smr4', 'smr5',\n",
    "                                                          'UAvg', 'MAvg', 'rating'], header=None)\n",
    "reg_test_df.head(4)"
   ]
  },
  {
   "cell_type": "markdown",
   "metadata": {},
   "source": [
    "# Transforming Data for Suprise models"
   ]
  },
  {
   "cell_type": "code",
   "execution_count": 5,
   "metadata": {},
   "outputs": [],
   "source": [
    "from surprise import Reader, Dataset"
   ]
  },
  {
   "cell_type": "markdown",
   "metadata": {},
   "source": [
    "#### Transforming Train data"
   ]
  },
  {
   "cell_type": "code",
   "execution_count": 6,
   "metadata": {},
   "outputs": [],
   "source": [
    "# It is to specify how to read the dataframe.\n",
    "reader = Reader(rating_scale=(1,5))\n",
    "\n",
    "train_data = Dataset.load_from_df(reg_train[['user', 'movie', 'rating']], reader)\n",
    "trainset = train_data.build_full_trainset() "
   ]
  },
  {
   "cell_type": "markdown",
   "metadata": {},
   "source": [
    "#### Transforming test data \n",
    "- Test data is just list of user,movie,rating"
   ]
  },
  {
   "cell_type": "code",
   "execution_count": 7,
   "metadata": {},
   "outputs": [
    {
     "data": {
      "text/plain": [
       "[(808635, 71, 5),\n",
       " (941866, 71, 4),\n",
       " (1280761, 71, 1),\n",
       " (1737912, 71, 3),\n",
       " (1849204, 71, 4)]"
      ]
     },
     "execution_count": 7,
     "metadata": {},
     "output_type": "execute_result"
    }
   ],
   "source": [
    "testset = list(zip(reg_test_df.user.values, reg_test_df.movie.values, reg_test_df.rating.values))\n",
    "testset[:5]"
   ]
  },
  {
   "cell_type": "markdown",
   "metadata": {},
   "source": [
    "# Applying Machine Learning Models"
   ]
  },
  {
   "cell_type": "markdown",
   "metadata": {},
   "source": [
    "-  Global dictionary that stores rmse and mape for all the models.\n",
    "    > __keys__ : model names(string)\n",
    "\n",
    "    > __value__: dict(__key__ : metric, __value__ : value ) "
   ]
  },
  {
   "cell_type": "code",
   "execution_count": 8,
   "metadata": {},
   "outputs": [],
   "source": [
    "models_evaluation_train = dict()\n",
    "models_evaluation_test = dict()"
   ]
  },
  {
   "cell_type": "code",
   "execution_count": 9,
   "metadata": {},
   "outputs": [],
   "source": [
    "# to get rmse and mape given actual and predicted ratings..\n",
    "def get_error_metrics(y_true, y_pred):\n",
    "    rmse = np.sqrt(np.mean([ (y_true[i] - y_pred[i])**2 for i in range(len(y_pred)) ]))\n",
    "    mape = np.mean(np.abs( (y_true - y_pred)/y_true )) * 100\n",
    "    return rmse, mape\n"
   ]
  },
  {
   "cell_type": "code",
   "execution_count": 10,
   "metadata": {},
   "outputs": [],
   "source": [
    "def run_xgboost(algo,  x_train, y_train, x_test, y_test, verbose=True):\n",
    "    # dictionaries for storing train and test results\n",
    "    train_results = dict()\n",
    "    test_results = dict()\n",
    "    \n",
    "    # fit the model\n",
    "    print('Training the model..')\n",
    "    start =datetime.now()\n",
    "    algo.fit(x_train, y_train, eval_metric = 'rmse')\n",
    "    print('Done. Time taken : {}\\n'.format(datetime.now()-start))\n",
    "    print('Done \\n')\n",
    "\n",
    "    # from the trained model, get the predictions....\n",
    "    print('Evaluating the model with TRAIN data...')\n",
    "    start =datetime.now()\n",
    "    y_train_pred = algo.predict(x_train)\n",
    "\n",
    "    # get the rmse and mape of train data...\n",
    "    rmse_train, mape_train = get_error_metrics(y_train.values, y_train_pred)\n",
    "    \n",
    "    # store the results in train_results dictionary..\n",
    "    train_results = {'rmse': rmse_train,\n",
    "                    'mape' : mape_train,\n",
    "                    'predictions' : y_train_pred}\n",
    "    \n",
    "    # get the test data predictions and compute rmse and mape\n",
    "    print('Evaluating Test data')\n",
    "    y_test_pred = algo.predict(x_test) \n",
    "    rmse_test, mape_test = get_error_metrics(y_true=y_test.values, y_pred=y_test_pred)\n",
    "    # store them in our test results dictionary.\n",
    "    test_results = {'rmse': rmse_test,\n",
    "                    'mape' : mape_test,\n",
    "                    'predictions':y_test_pred}\n",
    "    if verbose:\n",
    "        print('\\nTEST DATA')\n",
    "        print('RMSE : ', rmse_test)\n",
    "        print('MAPE : ', mape_test)\n",
    "        \n",
    "    # return these train and test results.\n",
    "    return train_results, test_results\n",
    "    "
   ]
  },
  {
   "cell_type": "markdown",
   "metadata": {},
   "source": [
    "> __Utility functions for Surprise modes__"
   ]
  },
  {
   "cell_type": "code",
   "execution_count": 11,
   "metadata": {},
   "outputs": [],
   "source": [
    "# it is just to makesure that all of our algorithms should produce same results\n",
    "my_seed = 15\n",
    "random.seed(my_seed)\n",
    "np.random.seed(my_seed)\n",
    "\n",
    "\n",
    "# get  (actual_list , predicted_list) ratings given list \n",
    "# of predictions (prediction is a class in Surprise).    \n",
    "def get_ratings(predictions):\n",
    "    actual = np.array([pred.r_ui for pred in predictions])\n",
    "    pred = np.array([pred.est for pred in predictions])\n",
    "    \n",
    "    return actual, pred\n",
    "\n",
    "# get ''rmse'' and ''mape'' , given list of prediction objecs \n",
    "def get_errors(predictions, print_them=False):\n",
    "\n",
    "    actual, pred = get_ratings(predictions)\n",
    "    rmse = np.sqrt(np.mean((pred - actual)**2))\n",
    "    mape = np.mean(np.abs(pred - actual)/actual)\n",
    "\n",
    "    return rmse, mape*100\n",
    "\n",
    "\n",
    "# It will return predicted ratings, rmse and mape of both train and test data   #\n",
    "def run_surprise(algo, trainset, testset, verbose=True): \n",
    "    '''\n",
    "        return train_dict, test_dict\n",
    "        It returns two dictionaries, one for train and the other is for test\n",
    "        Each of them have 3 key-value pairs, which specify ''rmse'', ''mape'', and ''predicted ratings''.\n",
    "    '''\n",
    "    start = datetime.now()\n",
    "    # dictionaries that stores metrics for train and test..\n",
    "    train = dict()\n",
    "    test = dict()\n",
    "    \n",
    "    # train the algorithm with the trainset\n",
    "    st = datetime.now()\n",
    "    print('Training the model...')\n",
    "    algo.fit(trainset)\n",
    "    print('Done. time taken : {} \\n'.format(datetime.now()-st))\n",
    "    \n",
    "    # ---------------- Evaluating train data--------------------#\n",
    "    st = datetime.now()\n",
    "    print('Evaluating the model with train data..')\n",
    "    # get the train predictions (list of prediction class inside Surprise)\n",
    "    train_preds = algo.test(trainset.build_testset())\n",
    "    # get predicted ratings from the train predictions..\n",
    "    train_actual_ratings, train_pred_ratings = get_ratings(train_preds)\n",
    "    # get ''rmse'' and ''mape'' from the train predictions.\n",
    "    train_rmse, train_mape = get_errors(train_preds)\n",
    "    print('time taken : {}'.format(datetime.now()-st))\n",
    "    \n",
    "    if verbose:\n",
    "        print('-'*15)\n",
    "        print('Train Data')\n",
    "        print('-'*15)\n",
    "        print(\"RMSE : {}\\n\\nMAPE : {}\\n\".format(train_rmse, train_mape))\n",
    "    \n",
    "    #store them in the train dictionary\n",
    "    if verbose:\n",
    "        print('adding train results in the dictionary..')\n",
    "    train['rmse'] = train_rmse\n",
    "    train['mape'] = train_mape\n",
    "    train['predictions'] = train_pred_ratings\n",
    "    \n",
    "    #------------ Evaluating Test data---------------#\n",
    "    st = datetime.now()\n",
    "    print('\\nEvaluating for test data...')\n",
    "    # get the predictions( list of prediction classes) of test data\n",
    "    test_preds = algo.test(testset)\n",
    "    # get the predicted ratings from the list of predictions\n",
    "    test_actual_ratings, test_pred_ratings = get_ratings(test_preds)\n",
    "    # get error metrics from the predicted and actual ratings\n",
    "    test_rmse, test_mape = get_errors(test_preds)\n",
    "    print('time taken : {}'.format(datetime.now()-st))\n",
    "    \n",
    "    if verbose:\n",
    "        print('-'*15)\n",
    "        print('Test Data')\n",
    "        print('-'*15)\n",
    "        print(\"RMSE : {}\\n\\nMAPE : {}\\n\".format(test_rmse, test_mape))\n",
    "    # store them in test dictionary\n",
    "    if verbose:\n",
    "        print('storing the test results in test dictionary...')\n",
    "    test['rmse'] = test_rmse\n",
    "    test['mape'] = test_mape\n",
    "    test['predictions'] = test_pred_ratings\n",
    "    \n",
    "    print('\\n'+'-'*45)\n",
    "    print('Total time taken to run this algorithm :', datetime.now() - start)\n",
    "    \n",
    "    # return two dictionaries train and test\n",
    "    return train, test"
   ]
  },
  {
   "cell_type": "code",
   "execution_count": 12,
   "metadata": {},
   "outputs": [],
   "source": [
    "import xgboost as xgb"
   ]
  },
  {
   "cell_type": "markdown",
   "metadata": {},
   "source": [
    "## XGBoost with initial 13 Features"
   ]
  },
  {
   "cell_type": "code",
   "execution_count": 13,
   "metadata": {},
   "outputs": [
    {
     "name": "stdout",
     "output_type": "stream",
     "text": [
      "Training the model..\n",
      "[11:37:46] WARNING: ../src/learner.cc:576: \n",
      "Parameters: { \"silent\" } might not be used.\n",
      "\n",
      "  This could be a false alarm, with some parameters getting used by language bindings but\n",
      "  then being mistakenly passed down to XGBoost core, or some parameter actually being used\n",
      "  but getting flagged wrongly here. Please open an issue if you find any such cases.\n",
      "\n",
      "\n",
      "Done. Time taken : 0:00:08.967344\n",
      "\n",
      "Done \n",
      "\n",
      "Evaluating the model with TRAIN data...\n",
      "Evaluating Test data\n",
      "\n",
      "TEST DATA\n",
      "RMSE :  1.0731626429272232\n",
      "MAPE :  34.37344879091025\n"
     ]
    },
    {
     "data": {
      "image/png": "[encoded data removed]",
      "text/plain": [
       "<Figure size 432x288 with 1 Axes>"
      ]
     },
     "metadata": {
      "needs_background": "light"
     },
     "output_type": "display_data"
    }
   ],
   "source": [
    "# prepare Train data\n",
    "x_train = reg_train.drop(['user','movie','rating'], axis=1)\n",
    "y_train = reg_train['rating']\n",
    "\n",
    "# Prepare Test data\n",
    "x_test = reg_test_df.drop(['user','movie','rating'], axis=1)\n",
    "y_test = reg_test_df['rating']\n",
    "\n",
    "# initialize Our first XGBoost model...\n",
    "first_xgb = xgb.XGBRegressor(silent=False, n_jobs=13, random_state=15, n_estimators=100)\n",
    "train_results, test_results = run_xgboost(first_xgb, x_train, y_train, x_test, y_test)\n",
    "\n",
    "# store the results in models_evaluations dictionaries\n",
    "models_evaluation_train['first_algo'] = train_results\n",
    "models_evaluation_test['first_algo'] = test_results\n",
    "\n",
    "xgb.plot_importance(first_xgb)\n",
    "plt.show()"
   ]
  },
  {
   "cell_type": "markdown",
   "metadata": {},
   "source": [
    "## Surprise Baseline Model"
   ]
  },
  {
   "cell_type": "code",
   "execution_count": 14,
   "metadata": {},
   "outputs": [],
   "source": [
    "from surprise import BaselineOnly "
   ]
  },
  {
   "cell_type": "markdown",
   "metadata": {},
   "source": [
    ">$   \\large {\\hat{r}_{ui} = b_{ui} =\\mu + b_u + b_i} $\n",
    "\n",
    "\n",
    "- $\\pmb \\mu $ : Average of all trainings in training data.\n",
    "- $\\pmb b_u$ : User bias\n",
    "- $\\pmb b_i$ : Item bias (movie biases) "
   ]
  },
  {
   "cell_type": "markdown",
   "metadata": {},
   "source": [
    "> $ \\large \\sum_{r_{ui} \\in R_{train}} \\left(r_{ui} - (\\mu + b_u + b_i)\\right)^2 +\n",
    "\\lambda \\left(b_u^2 + b_i^2 \\right).\\text {        [mimimize } {b_u, b_i]}$ "
   ]
  },
  {
   "cell_type": "code",
   "execution_count": 15,
   "metadata": {},
   "outputs": [
    {
     "name": "stdout",
     "output_type": "stream",
     "text": [
      "Training the model...\n",
      "Estimating biases using sgd...\n",
      "Done. time taken : 0:00:02.324158 \n",
      "\n",
      "Evaluating the model with train data..\n",
      "time taken : 0:00:02.591219\n",
      "---------------\n",
      "Train Data\n",
      "---------------\n",
      "RMSE : 0.937576011261653\n",
      "\n",
      "MAPE : 29.48111001946227\n",
      "\n",
      "adding train results in the dictionary..\n",
      "\n",
      "Evaluating for test data...\n",
      "time taken : 0:00:00.121967\n",
      "---------------\n",
      "Test Data\n",
      "---------------\n",
      "RMSE : 1.0772608617102368\n",
      "\n",
      "MAPE : 35.31218653870969\n",
      "\n",
      "storing the test results in test dictionary...\n",
      "\n",
      "---------------------------------------------\n",
      "Total time taken to run this algorithm : 0:00:05.038345\n"
     ]
    }
   ],
   "source": [
    "\n",
    "# options are to specify.., how to compute those user and item biases\n",
    "bsl_options = {'method': 'sgd',\n",
    "               'learning_rate': .001\n",
    "               }\n",
    "bsl_algo = BaselineOnly(bsl_options=bsl_options)\n",
    "\n",
    "# run this algorithm.., It will return the train and test results..\n",
    "bsl_train_results, bsl_test_results = run_surprise(bsl_algo, trainset, testset, verbose=True)\n",
    "\n",
    "\n",
    "# Just store these error metrics in our models_evaluation datastructure\n",
    "models_evaluation_train['bsl_algo'] = bsl_train_results \n",
    "models_evaluation_test['bsl_algo'] = bsl_test_results"
   ]
  },
  {
   "cell_type": "markdown",
   "metadata": {},
   "source": [
    "## XGbosst on Initial 13 Features + Surprise Baseline predictor"
   ]
  },
  {
   "cell_type": "markdown",
   "metadata": {},
   "source": [
    "__Updating Train Data__"
   ]
  },
  {
   "cell_type": "code",
   "execution_count": 16,
   "metadata": {},
   "outputs": [
    {
     "data": {
      "text/html": [
       "<div>\n",
       "<style scoped>\n",
       "    .dataframe tbody tr th:only-of-type {\n",
       "        vertical-align: middle;\n",
       "    }\n",
       "\n",
       "    .dataframe tbody tr th {\n",
       "        vertical-align: top;\n",
       "    }\n",
       "\n",
       "    .dataframe thead th {\n",
       "        text-align: right;\n",
       "    }\n",
       "</style>\n",
       "<table border=\"1\" class=\"dataframe\">\n",
       "  <thead>\n",
       "    <tr style=\"text-align: right;\">\n",
       "      <th></th>\n",
       "      <th>user</th>\n",
       "      <th>movie</th>\n",
       "      <th>GAvg</th>\n",
       "      <th>sur1</th>\n",
       "      <th>sur2</th>\n",
       "      <th>sur3</th>\n",
       "      <th>sur4</th>\n",
       "      <th>sur5</th>\n",
       "      <th>smr1</th>\n",
       "      <th>smr2</th>\n",
       "      <th>smr3</th>\n",
       "      <th>smr4</th>\n",
       "      <th>smr5</th>\n",
       "      <th>UAvg</th>\n",
       "      <th>MAvg</th>\n",
       "      <th>rating</th>\n",
       "      <th>bslpr</th>\n",
       "    </tr>\n",
       "  </thead>\n",
       "  <tbody>\n",
       "    <tr>\n",
       "      <th>0</th>\n",
       "      <td>124742</td>\n",
       "      <td>5</td>\n",
       "      <td>3.585633</td>\n",
       "      <td>4.0</td>\n",
       "      <td>5.0</td>\n",
       "      <td>1.0</td>\n",
       "      <td>1.0</td>\n",
       "      <td>3.0</td>\n",
       "      <td>4.0</td>\n",
       "      <td>3.0</td>\n",
       "      <td>5.0</td>\n",
       "      <td>3.0</td>\n",
       "      <td>5.0</td>\n",
       "      <td>3.700787</td>\n",
       "      <td>4.142857</td>\n",
       "      <td>5</td>\n",
       "      <td>3.927786</td>\n",
       "    </tr>\n",
       "    <tr>\n",
       "      <th>1</th>\n",
       "      <td>261262</td>\n",
       "      <td>5</td>\n",
       "      <td>3.585633</td>\n",
       "      <td>5.0</td>\n",
       "      <td>5.0</td>\n",
       "      <td>5.0</td>\n",
       "      <td>5.0</td>\n",
       "      <td>5.0</td>\n",
       "      <td>3.0</td>\n",
       "      <td>2.0</td>\n",
       "      <td>5.0</td>\n",
       "      <td>2.0</td>\n",
       "      <td>2.8</td>\n",
       "      <td>2.800000</td>\n",
       "      <td>4.142857</td>\n",
       "      <td>2</td>\n",
       "      <td>4.154811</td>\n",
       "    </tr>\n",
       "  </tbody>\n",
       "</table>\n",
       "</div>"
      ],
      "text/plain": [
       "     user  movie      GAvg  sur1  sur2  sur3  sur4  sur5  smr1  smr2  smr3  \\\n",
       "0  124742      5  3.585633   4.0   5.0   1.0   1.0   3.0   4.0   3.0   5.0   \n",
       "1  261262      5  3.585633   5.0   5.0   5.0   5.0   5.0   3.0   2.0   5.0   \n",
       "\n",
       "   smr4  smr5      UAvg      MAvg  rating     bslpr  \n",
       "0   3.0   5.0  3.700787  4.142857       5  3.927786  \n",
       "1   2.0   2.8  2.800000  4.142857       2  4.154811  "
      ]
     },
     "execution_count": 16,
     "metadata": {},
     "output_type": "execute_result"
    }
   ],
   "source": [
    "# add our baseline_predicted value as our feature..\n",
    "reg_train['bslpr'] = models_evaluation_train['bsl_algo']['predictions']\n",
    "reg_train.head(2) "
   ]
  },
  {
   "cell_type": "markdown",
   "metadata": {},
   "source": [
    "__Updating Test Data__"
   ]
  },
  {
   "cell_type": "code",
   "execution_count": 17,
   "metadata": {},
   "outputs": [
    {
     "data": {
      "text/html": [
       "<div>\n",
       "<style scoped>\n",
       "    .dataframe tbody tr th:only-of-type {\n",
       "        vertical-align: middle;\n",
       "    }\n",
       "\n",
       "    .dataframe tbody tr th {\n",
       "        vertical-align: top;\n",
       "    }\n",
       "\n",
       "    .dataframe thead th {\n",
       "        text-align: right;\n",
       "    }\n",
       "</style>\n",
       "<table border=\"1\" class=\"dataframe\">\n",
       "  <thead>\n",
       "    <tr style=\"text-align: right;\">\n",
       "      <th></th>\n",
       "      <th>user</th>\n",
       "      <th>movie</th>\n",
       "      <th>GAvg</th>\n",
       "      <th>sur1</th>\n",
       "      <th>sur2</th>\n",
       "      <th>sur3</th>\n",
       "      <th>sur4</th>\n",
       "      <th>sur5</th>\n",
       "      <th>smr1</th>\n",
       "      <th>smr2</th>\n",
       "      <th>smr3</th>\n",
       "      <th>smr4</th>\n",
       "      <th>smr5</th>\n",
       "      <th>UAvg</th>\n",
       "      <th>MAvg</th>\n",
       "      <th>rating</th>\n",
       "      <th>bslpr</th>\n",
       "    </tr>\n",
       "  </thead>\n",
       "  <tbody>\n",
       "    <tr>\n",
       "      <th>0</th>\n",
       "      <td>808635</td>\n",
       "      <td>71</td>\n",
       "      <td>3.585633</td>\n",
       "      <td>3.585633</td>\n",
       "      <td>3.585633</td>\n",
       "      <td>3.585633</td>\n",
       "      <td>3.585633</td>\n",
       "      <td>3.585633</td>\n",
       "      <td>3.585633</td>\n",
       "      <td>3.585633</td>\n",
       "      <td>3.585633</td>\n",
       "      <td>3.585633</td>\n",
       "      <td>3.585633</td>\n",
       "      <td>3.585633</td>\n",
       "      <td>3.585633</td>\n",
       "      <td>5</td>\n",
       "      <td>3.578724</td>\n",
       "    </tr>\n",
       "    <tr>\n",
       "      <th>1</th>\n",
       "      <td>941866</td>\n",
       "      <td>71</td>\n",
       "      <td>3.585633</td>\n",
       "      <td>3.585633</td>\n",
       "      <td>3.585633</td>\n",
       "      <td>3.585633</td>\n",
       "      <td>3.585633</td>\n",
       "      <td>3.585633</td>\n",
       "      <td>3.585633</td>\n",
       "      <td>3.585633</td>\n",
       "      <td>3.585633</td>\n",
       "      <td>3.585633</td>\n",
       "      <td>3.585633</td>\n",
       "      <td>3.585633</td>\n",
       "      <td>3.585633</td>\n",
       "      <td>4</td>\n",
       "      <td>3.578724</td>\n",
       "    </tr>\n",
       "  </tbody>\n",
       "</table>\n",
       "</div>"
      ],
      "text/plain": [
       "     user  movie      GAvg      sur1      sur2      sur3      sur4      sur5  \\\n",
       "0  808635     71  3.585633  3.585633  3.585633  3.585633  3.585633  3.585633   \n",
       "1  941866     71  3.585633  3.585633  3.585633  3.585633  3.585633  3.585633   \n",
       "\n",
       "       smr1      smr2      smr3      smr4      smr5      UAvg      MAvg  \\\n",
       "0  3.585633  3.585633  3.585633  3.585633  3.585633  3.585633  3.585633   \n",
       "1  3.585633  3.585633  3.585633  3.585633  3.585633  3.585633  3.585633   \n",
       "\n",
       "   rating     bslpr  \n",
       "0       5  3.578724  \n",
       "1       4  3.578724  "
      ]
     },
     "execution_count": 17,
     "metadata": {},
     "output_type": "execute_result"
    }
   ],
   "source": [
    "# add that baseline predicted ratings with Surprise to the test data as well\n",
    "reg_test_df['bslpr']  = models_evaluation_test['bsl_algo']['predictions']\n",
    "reg_test_df.head(2)"
   ]
  },
  {
   "cell_type": "code",
   "execution_count": 18,
   "metadata": {},
   "outputs": [
    {
     "name": "stdout",
     "output_type": "stream",
     "text": [
      "Training the model..\n",
      "[11:38:33] WARNING: ../src/learner.cc:576: \n",
      "Parameters: { \"silent\" } might not be used.\n",
      "\n",
      "  This could be a false alarm, with some parameters getting used by language bindings but\n",
      "  then being mistakenly passed down to XGBoost core, or some parameter actually being used\n",
      "  but getting flagged wrongly here. Please open an issue if you find any such cases.\n",
      "\n",
      "\n",
      "Done. Time taken : 0:00:19.713949\n",
      "\n",
      "Done \n",
      "\n",
      "Evaluating the model with TRAIN data...\n",
      "Evaluating Test data\n",
      "\n",
      "TEST DATA\n",
      "RMSE :  1.0774274379506077\n",
      "MAPE :  34.16342358501491\n"
     ]
    },
    {
     "data": {
      "image/png": "[encoded data removed]",
      "text/plain": [
       "<Figure size 432x288 with 1 Axes>"
      ]
     },
     "metadata": {
      "needs_background": "light"
     },
     "output_type": "display_data"
    }
   ],
   "source": [
    "# prepare train data\n",
    "x_train = reg_train.drop(['user', 'movie','rating'], axis=1)\n",
    "y_train = reg_train['rating']\n",
    "\n",
    "# Prepare Test data\n",
    "x_test = reg_test_df.drop(['user','movie','rating'], axis=1)\n",
    "y_test = reg_test_df['rating']\n",
    "\n",
    "# initialize Our first XGBoost model...\n",
    "xgb_bsl = xgb.XGBRegressor(silent=False, n_jobs=13, random_state=15, n_estimators=100)\n",
    "train_results, test_results = run_xgboost(xgb_bsl, x_train, y_train, x_test, y_test)\n",
    "\n",
    "# store the results in models_evaluations dictionaries\n",
    "models_evaluation_train['xgb_bsl'] = train_results\n",
    "models_evaluation_test['xgb_bsl'] = test_results\n",
    "\n",
    "xgb.plot_importance(xgb_bsl)\n",
    "plt.show()\n"
   ]
  },
  {
   "cell_type": "markdown",
   "metadata": {},
   "source": [
    "<h3> Matrix Factorization Techniques </h3>"
   ]
  },
  {
   "cell_type": "code",
   "execution_count": 19,
   "metadata": {},
   "outputs": [],
   "source": [
    "from surprise import SVD"
   ]
  },
  {
   "cell_type": "markdown",
   "metadata": {},
   "source": [
    "- Predicted Rating\n",
    "    - \n",
    "    - $ \\large  \\hat r_{ui} = \\mu + b_u + b_i + q_i^Tp_u $\n",
    "    \n",
    "        - $\\pmb q_i$ - Representation of item(movie) in latent factor space\n",
    "        \n",
    "        - $\\pmb p_u$ - Representation of user in new latent factor space\n",
    "        \n"
   ]
  },
  {
   "cell_type": "markdown",
   "metadata": {},
   "source": [
    "- __Optimization problem with user item interactions and regularization (to avoid overfitting)__\n",
    "    - \n",
    "    - $\\large \\sum_{r_{ui} \\in R_{train}} \\left(r_{ui} - \\hat{r}_{ui} \\right)^2 +\n",
    "\\lambda\\left(b_i^2 + b_u^2 + ||q_i||^2 + ||p_u||^2\\right) $"
   ]
  },
  {
   "cell_type": "code",
   "execution_count": 20,
   "metadata": {},
   "outputs": [
    {
     "name": "stdout",
     "output_type": "stream",
     "text": [
      "Training the model...\n",
      "Processing epoch 0\n",
      "Processing epoch 1\n",
      "Processing epoch 2\n",
      "Processing epoch 3\n",
      "Processing epoch 4\n",
      "Processing epoch 5\n",
      "Processing epoch 6\n",
      "Processing epoch 7\n",
      "Processing epoch 8\n",
      "Processing epoch 9\n",
      "Processing epoch 10\n",
      "Processing epoch 11\n",
      "Processing epoch 12\n",
      "Processing epoch 13\n",
      "Processing epoch 14\n",
      "Processing epoch 15\n",
      "Processing epoch 16\n",
      "Processing epoch 17\n",
      "Processing epoch 18\n",
      "Processing epoch 19\n",
      "Done. time taken : 0:00:17.349276 \n",
      "\n",
      "Evaluating the model with train data..\n",
      "time taken : 0:00:03.497558\n",
      "---------------\n",
      "Train Data\n",
      "---------------\n",
      "RMSE : 0.6704419279760842\n",
      "\n",
      "MAPE : 20.255366264253706\n",
      "\n",
      "adding train results in the dictionary..\n",
      "\n",
      "Evaluating for test data...\n",
      "time taken : 0:00:00.340948\n",
      "---------------\n",
      "Test Data\n",
      "---------------\n",
      "RMSE : 1.076876555481653\n",
      "\n",
      "MAPE : 35.24467412730877\n",
      "\n",
      "storing the test results in test dictionary...\n",
      "\n",
      "---------------------------------------------\n",
      "Total time taken to run this algorithm : 0:00:21.188194\n"
     ]
    }
   ],
   "source": [
    "# initiallize the model\n",
    "svd = SVD(n_factors=100, biased=True, random_state=15, verbose=True)\n",
    "svd_train_results, svd_test_results = run_surprise(svd, trainset, testset, verbose=True)\n",
    "\n",
    "# Just store these error metrics in our models_evaluation datastructure\n",
    "models_evaluation_train['svd'] = svd_train_results \n",
    "models_evaluation_test['svd'] = svd_test_results"
   ]
  },
  {
   "cell_type": "markdown",
   "metadata": {},
   "source": [
    "  <h4> SVD Matrix Factorization with implicit feedback from user ( user rated movies ) </h4>"
   ]
  },
  {
   "cell_type": "code",
   "execution_count": 21,
   "metadata": {},
   "outputs": [],
   "source": [
    "from surprise import SVDpp"
   ]
  },
  {
   "cell_type": "markdown",
   "metadata": {},
   "source": [
    "- Predicted Rating : \n",
    "    - \n",
    "    - $ \\large \\hat{r}_{ui} = \\mu + b_u + b_i + q_i^T\\left(p_u +\n",
    "    |I_u|^{-\\frac{1}{2}} \\sum_{j \\in I_u}y_j\\right) $ "
   ]
  },
  {
   "cell_type": "markdown",
   "metadata": {},
   "source": [
    " - $ \\pmb{I_u}$ --- the set of all items rated by user u\n",
    "\n",
    "- $\\pmb{y_j}$ --- Our new set of item factors that capture implicit ratings.  "
   ]
  },
  {
   "cell_type": "code",
   "execution_count": 22,
   "metadata": {},
   "outputs": [
    {
     "name": "stdout",
     "output_type": "stream",
     "text": [
      "Training the model...\n",
      " processing epoch 0\n",
      " processing epoch 1\n",
      " processing epoch 2\n",
      " processing epoch 3\n",
      " processing epoch 4\n",
      " processing epoch 5\n",
      " processing epoch 6\n",
      " processing epoch 7\n",
      " processing epoch 8\n",
      " processing epoch 9\n",
      " processing epoch 10\n",
      " processing epoch 11\n",
      " processing epoch 12\n",
      " processing epoch 13\n",
      " processing epoch 14\n",
      " processing epoch 15\n",
      " processing epoch 16\n",
      " processing epoch 17\n",
      " processing epoch 18\n",
      " processing epoch 19\n",
      "Done. time taken : 0:05:03.152476 \n",
      "\n",
      "Evaluating the model with train data..\n",
      "time taken : 0:00:20.612387\n",
      "---------------\n",
      "Train Data\n",
      "---------------\n",
      "RMSE : 0.6224927170022054\n",
      "\n",
      "MAPE : 18.263983146571356\n",
      "\n",
      "adding train results in the dictionary..\n",
      "\n",
      "Evaluating for test data...\n",
      "time taken : 0:00:00.132592\n",
      "---------------\n",
      "Test Data\n",
      "---------------\n",
      "RMSE : 1.0770476761055696\n",
      "\n",
      "MAPE : 35.2512024486534\n",
      "\n",
      "storing the test results in test dictionary...\n",
      "\n",
      "---------------------------------------------\n",
      "Total time taken to run this algorithm : 0:05:23.899890\n"
     ]
    }
   ],
   "source": [
    "# initiallize the model\n",
    "svdpp = SVDpp(n_factors=50, random_state=15, verbose=True)\n",
    "svdpp_train_results, svdpp_test_results = run_surprise(svdpp, trainset, testset, verbose=True)\n",
    "\n",
    "# Just store these error metrics in our models_evaluation datastructure\n",
    "models_evaluation_train['svdpp'] = svdpp_train_results \n",
    "models_evaluation_test['svdpp'] = svdpp_test_results\n"
   ]
  },
  {
   "cell_type": "markdown",
   "metadata": {},
   "source": [
    "<h3> XgBoost with 13 features + Surprise Baseline +  MF Techniques </h3>"
   ]
  },
  {
   "cell_type": "markdown",
   "metadata": {},
   "source": [
    "__Preparing Train data__"
   ]
  },
  {
   "cell_type": "code",
   "execution_count": 23,
   "metadata": {},
   "outputs": [
    {
     "data": {
      "text/html": [
       "<div>\n",
       "<style scoped>\n",
       "    .dataframe tbody tr th:only-of-type {\n",
       "        vertical-align: middle;\n",
       "    }\n",
       "\n",
       "    .dataframe tbody tr th {\n",
       "        vertical-align: top;\n",
       "    }\n",
       "\n",
       "    .dataframe thead th {\n",
       "        text-align: right;\n",
       "    }\n",
       "</style>\n",
       "<table border=\"1\" class=\"dataframe\">\n",
       "  <thead>\n",
       "    <tr style=\"text-align: right;\">\n",
       "      <th></th>\n",
       "      <th>user</th>\n",
       "      <th>movie</th>\n",
       "      <th>GAvg</th>\n",
       "      <th>sur1</th>\n",
       "      <th>sur2</th>\n",
       "      <th>sur3</th>\n",
       "      <th>sur4</th>\n",
       "      <th>sur5</th>\n",
       "      <th>smr1</th>\n",
       "      <th>smr2</th>\n",
       "      <th>smr3</th>\n",
       "      <th>smr4</th>\n",
       "      <th>smr5</th>\n",
       "      <th>UAvg</th>\n",
       "      <th>MAvg</th>\n",
       "      <th>rating</th>\n",
       "      <th>bslpr</th>\n",
       "      <th>svd</th>\n",
       "      <th>svdpp</th>\n",
       "    </tr>\n",
       "  </thead>\n",
       "  <tbody>\n",
       "    <tr>\n",
       "      <th>0</th>\n",
       "      <td>124742</td>\n",
       "      <td>5</td>\n",
       "      <td>3.585633</td>\n",
       "      <td>4.0</td>\n",
       "      <td>5.0</td>\n",
       "      <td>1.0</td>\n",
       "      <td>1.0</td>\n",
       "      <td>3.0</td>\n",
       "      <td>4.0</td>\n",
       "      <td>3.0</td>\n",
       "      <td>5.0</td>\n",
       "      <td>3.0</td>\n",
       "      <td>5.0</td>\n",
       "      <td>3.700787</td>\n",
       "      <td>4.142857</td>\n",
       "      <td>5</td>\n",
       "      <td>3.927786</td>\n",
       "      <td>4.199300</td>\n",
       "      <td>4.388672</td>\n",
       "    </tr>\n",
       "    <tr>\n",
       "      <th>1</th>\n",
       "      <td>261262</td>\n",
       "      <td>5</td>\n",
       "      <td>3.585633</td>\n",
       "      <td>5.0</td>\n",
       "      <td>5.0</td>\n",
       "      <td>5.0</td>\n",
       "      <td>5.0</td>\n",
       "      <td>5.0</td>\n",
       "      <td>3.0</td>\n",
       "      <td>2.0</td>\n",
       "      <td>5.0</td>\n",
       "      <td>2.0</td>\n",
       "      <td>2.8</td>\n",
       "      <td>2.800000</td>\n",
       "      <td>4.142857</td>\n",
       "      <td>2</td>\n",
       "      <td>4.154811</td>\n",
       "      <td>4.120706</td>\n",
       "      <td>4.693527</td>\n",
       "    </tr>\n",
       "  </tbody>\n",
       "</table>\n",
       "</div>"
      ],
      "text/plain": [
       "     user  movie      GAvg  sur1  sur2  sur3  sur4  sur5  smr1  smr2  smr3  \\\n",
       "0  124742      5  3.585633   4.0   5.0   1.0   1.0   3.0   4.0   3.0   5.0   \n",
       "1  261262      5  3.585633   5.0   5.0   5.0   5.0   5.0   3.0   2.0   5.0   \n",
       "\n",
       "   smr4  smr5      UAvg      MAvg  rating     bslpr       svd     svdpp  \n",
       "0   3.0   5.0  3.700787  4.142857       5  3.927786  4.199300  4.388672  \n",
       "1   2.0   2.8  2.800000  4.142857       2  4.154811  4.120706  4.693527  "
      ]
     },
     "execution_count": 23,
     "metadata": {},
     "output_type": "execute_result"
    }
   ],
   "source": [
    "# add the predicted values from both knns to this dataframe\n",
    "reg_train['svd'] = models_evaluation_train['svd']['predictions']\n",
    "reg_train['svdpp'] = models_evaluation_train['svdpp']['predictions']\n",
    "\n",
    "reg_train.head(2) "
   ]
  },
  {
   "cell_type": "markdown",
   "metadata": {},
   "source": [
    "__Preparing Test data__"
   ]
  },
  {
   "cell_type": "code",
   "execution_count": 24,
   "metadata": {},
   "outputs": [
    {
     "data": {
      "text/html": [
       "<div>\n",
       "<style scoped>\n",
       "    .dataframe tbody tr th:only-of-type {\n",
       "        vertical-align: middle;\n",
       "    }\n",
       "\n",
       "    .dataframe tbody tr th {\n",
       "        vertical-align: top;\n",
       "    }\n",
       "\n",
       "    .dataframe thead th {\n",
       "        text-align: right;\n",
       "    }\n",
       "</style>\n",
       "<table border=\"1\" class=\"dataframe\">\n",
       "  <thead>\n",
       "    <tr style=\"text-align: right;\">\n",
       "      <th></th>\n",
       "      <th>user</th>\n",
       "      <th>movie</th>\n",
       "      <th>GAvg</th>\n",
       "      <th>sur1</th>\n",
       "      <th>sur2</th>\n",
       "      <th>sur3</th>\n",
       "      <th>sur4</th>\n",
       "      <th>sur5</th>\n",
       "      <th>smr1</th>\n",
       "      <th>smr2</th>\n",
       "      <th>smr3</th>\n",
       "      <th>smr4</th>\n",
       "      <th>smr5</th>\n",
       "      <th>UAvg</th>\n",
       "      <th>MAvg</th>\n",
       "      <th>rating</th>\n",
       "      <th>bslpr</th>\n",
       "      <th>svd</th>\n",
       "      <th>svdpp</th>\n",
       "    </tr>\n",
       "  </thead>\n",
       "  <tbody>\n",
       "    <tr>\n",
       "      <th>0</th>\n",
       "      <td>808635</td>\n",
       "      <td>71</td>\n",
       "      <td>3.585633</td>\n",
       "      <td>3.585633</td>\n",
       "      <td>3.585633</td>\n",
       "      <td>3.585633</td>\n",
       "      <td>3.585633</td>\n",
       "      <td>3.585633</td>\n",
       "      <td>3.585633</td>\n",
       "      <td>3.585633</td>\n",
       "      <td>3.585633</td>\n",
       "      <td>3.585633</td>\n",
       "      <td>3.585633</td>\n",
       "      <td>3.585633</td>\n",
       "      <td>3.585633</td>\n",
       "      <td>5</td>\n",
       "      <td>3.578724</td>\n",
       "      <td>3.578724</td>\n",
       "      <td>3.578724</td>\n",
       "    </tr>\n",
       "    <tr>\n",
       "      <th>1</th>\n",
       "      <td>941866</td>\n",
       "      <td>71</td>\n",
       "      <td>3.585633</td>\n",
       "      <td>3.585633</td>\n",
       "      <td>3.585633</td>\n",
       "      <td>3.585633</td>\n",
       "      <td>3.585633</td>\n",
       "      <td>3.585633</td>\n",
       "      <td>3.585633</td>\n",
       "      <td>3.585633</td>\n",
       "      <td>3.585633</td>\n",
       "      <td>3.585633</td>\n",
       "      <td>3.585633</td>\n",
       "      <td>3.585633</td>\n",
       "      <td>3.585633</td>\n",
       "      <td>4</td>\n",
       "      <td>3.578724</td>\n",
       "      <td>3.578724</td>\n",
       "      <td>3.578724</td>\n",
       "    </tr>\n",
       "  </tbody>\n",
       "</table>\n",
       "</div>"
      ],
      "text/plain": [
       "     user  movie      GAvg      sur1      sur2      sur3      sur4      sur5  \\\n",
       "0  808635     71  3.585633  3.585633  3.585633  3.585633  3.585633  3.585633   \n",
       "1  941866     71  3.585633  3.585633  3.585633  3.585633  3.585633  3.585633   \n",
       "\n",
       "       smr1      smr2      smr3      smr4      smr5      UAvg      MAvg  \\\n",
       "0  3.585633  3.585633  3.585633  3.585633  3.585633  3.585633  3.585633   \n",
       "1  3.585633  3.585633  3.585633  3.585633  3.585633  3.585633  3.585633   \n",
       "\n",
       "   rating     bslpr       svd     svdpp  \n",
       "0       5  3.578724  3.578724  3.578724  \n",
       "1       4  3.578724  3.578724  3.578724  "
      ]
     },
     "execution_count": 24,
     "metadata": {},
     "output_type": "execute_result"
    }
   ],
   "source": [
    "reg_test_df['svd'] = models_evaluation_test['svd']['predictions']\n",
    "reg_test_df['svdpp'] = models_evaluation_test['svdpp']['predictions']\n",
    "\n",
    "reg_test_df.head(2) "
   ]
  },
  {
   "cell_type": "code",
   "execution_count": 25,
   "metadata": {},
   "outputs": [
    {
     "name": "stdout",
     "output_type": "stream",
     "text": [
      "Training the model..\n",
      "Done. Time taken : 0:00:15.422625\n",
      "\n",
      "Done \n",
      "\n",
      "Evaluating the model with TRAIN data...\n",
      "Evaluating Test data\n",
      "\n",
      "TEST DATA\n",
      "RMSE :  1.0728574466444245\n",
      "MAPE :  34.351663317499565\n"
     ]
    },
    {
     "data": {
      "image/png": "[encoded data removed]",
      "text/plain": [
       "<Figure size 432x288 with 1 Axes>"
      ]
     },
     "metadata": {
      "needs_background": "light"
     },
     "output_type": "display_data"
    }
   ],
   "source": [
    "# prepare x_train and y_train\n",
    "x_train = reg_train.drop(['user', 'movie', 'rating',], axis=1)\n",
    "y_train = reg_train['rating']\n",
    "\n",
    "# prepare test data\n",
    "x_test = reg_test_df.drop(['user', 'movie', 'rating'], axis=1)\n",
    "y_test = reg_test_df['rating']\n",
    "\n",
    "\n",
    "\n",
    "xgb_final = xgb.XGBRegressor(n_jobs=10, random_state=15)\n",
    "train_results, test_results = run_xgboost(xgb_final, x_train, y_train, x_test, y_test)\n",
    "\n",
    "# store the results in models_evaluations dictionaries\n",
    "models_evaluation_train['xgb_final'] = train_results\n",
    "models_evaluation_test['xgb_final'] = test_results\n",
    "\n",
    "\n",
    "xgb.plot_importance(xgb_final)\n",
    "plt.show()"
   ]
  }
 ],
 "metadata": {
  "interpreter": {
   "hash": "b1a2a98cb31d52257092369825697ba7826d9e3ef1bc1b87a6889fc4dec61186"
  },
  "kernelspec": {
   "display_name": "Python 3.9.7 ('base')",
   "language": "python",
   "name": "python3"
  },
  "language_info": {
   "codemirror_mode": {
    "name": "ipython",
    "version": 3
   },
   "file_extension": ".py",
   "mimetype": "text/x-python",
   "name": "python",
   "nbconvert_exporter": "python",
   "pygments_lexer": "ipython3",
   "version": "3.9.7"
  }
 },
 "nbformat": 4,
 "nbformat_minor": 2
}
